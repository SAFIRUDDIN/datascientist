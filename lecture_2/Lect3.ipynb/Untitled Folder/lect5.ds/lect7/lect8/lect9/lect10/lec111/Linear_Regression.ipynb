{
 "cells": [
  {
   "cell_type": "code",
   "execution_count": 8,
   "metadata": {},
   "outputs": [],
   "source": [
    "import numpy as np\n",
    "import matplotlib.pyplot as plt"
   ]
  },
  {
   "cell_type": "code",
   "execution_count": 9,
   "metadata": {},
   "outputs": [],
   "source": [
    "m=5\n",
    "c=10"
   ]
  },
  {
   "cell_type": "code",
   "execution_count": 10,
   "metadata": {},
   "outputs": [],
   "source": [
    "X=np.linspace(0,100,100)"
   ]
  },
  {
   "cell_type": "code",
   "execution_count": 11,
   "metadata": {},
   "outputs": [],
   "source": [
    "y=(m*X+c)+np.random.randint(-10,10,100)"
   ]
  },
  {
   "cell_type": "code",
   "execution_count": 12,
   "metadata": {},
   "outputs": [
    {
     "data": {
      "image/png": "[encoded data removed]",
      "text/plain": [
       "<Figure size 432x288 with 1 Axes>"
      ]
     },
     "metadata": {
      "needs_background": "light"
     },
     "output_type": "display_data"
    }
   ],
   "source": [
    "plt.scatter(X,y)\n",
    "plt.show()"
   ]
  },
  {
   "cell_type": "code",
   "execution_count": 13,
   "metadata": {},
   "outputs": [],
   "source": [
    "# class CustomLineareg():\n",
    "    \n",
    "    \n",
    "#     def __init__(self,lr=.1,max_iters=10):\n",
    "#         self.lr=lr\n",
    "#         self.max_iter=max_itesr\n",
    "        \n",
    "#     def fit(self,X,y):\n",
    "#         self.__X=X\n",
    "#         self.__y=y\n",
    "        \n",
    "#         self.slope=np.random.random()\n",
    "#         self.intercept=np.random.random()\n",
    "#         for i in range(self.max_iters):\n",
    "#             self.gradient_decend()\n",
    "            \n",
    "        \n",
    "#     def gradient_decend(self,X,y):\n",
    "#         delta_coef,delta_inter=self.gradient(X,y)\n",
    "        \n",
    "#         self.delta_coef=+delta_coef\n",
    "#         self.delta_inter=+inter\n",
    "        \n",
    "#     def gradient(self,X,y):\n",
    "#         delta_slope=(self.hypothesis()-self.__y)*self.__X\n",
    "#         delta_intercept=(self.hypothesis()-self._y)\n",
    "#         return delta_slope,delta_inter\n",
    "        \n",
    "            \n",
    "            "
   ]
  },
  {
   "cell_type": "code",
   "execution_count": 14,
   "metadata": {},
   "outputs": [],
   "source": [
    "class CustomLinearReg:\n",
    "     \n",
    "    def __init__(self, lr=.1, max_iters=10):\n",
    "        self.lr = lr\n",
    "        self.max_iters = max_iters\n",
    "        \n",
    "    def fit(self, X, y):\n",
    "        \n",
    "        self.coef_ = np.random.random()\n",
    "        \n",
    "        for _ in range(self.max_iters):\n",
    "            self.gradient_decend(X, y)\n",
    "            \n",
    "    def gradient_decend(self, X, y):\n",
    "        \n",
    "        delta_coef = self.gradient(X, y)\n",
    "        print(delta_coef)\n",
    "        \n",
    "        self.coef_ += delta_coef\n",
    "        \n",
    "    def gradient(self, X, y):\n",
    "        \n",
    "        yp = self.coef_ * X\n",
    "        diff = (yp - y)\n",
    "        d_err = np.mean(diff * X)\n",
    "\n",
    "        \n",
    "        return - d_err * self.lr\n",
    "    \n",
    "    def predict(self, X):\n",
    "        return X * self.coef_     "
   ]
  },
  {
   "cell_type": "code",
   "execution_count": 15,
   "metadata": {},
   "outputs": [],
   "source": [
    "model=CustomLinearReg(lr=0.0001)"
   ]
  },
  {
   "cell_type": "code",
   "execution_count": 16,
   "metadata": {},
   "outputs": [
    {
     "name": "stdout",
     "output_type": "stream",
     "text": [
      "1.6639957210273622\n",
      "1.1065291410872184\n",
      "0.7358232503862818\n",
      "0.48931007391006937\n",
      "0.3253829616068641\n",
      "0.21637419164092828\n",
      "0.1438851947780584\n",
      "0.09568123221773236\n",
      "0.06362640862963694\n",
      "0.042310490587048104\n"
     ]
    }
   ],
   "source": [
    "model.fit(X,y)"
   ]
  },
  {
   "cell_type": "code",
   "execution_count": 17,
   "metadata": {},
   "outputs": [
    {
     "data": {
      "text/plain": [
       "5.06941184029204"
      ]
     },
     "execution_count": 17,
     "metadata": {},
     "output_type": "execute_result"
    }
   ],
   "source": [
    "model.coef_"
   ]
  },
  {
   "cell_type": "code",
   "execution_count": 18,
   "metadata": {},
   "outputs": [],
   "source": [
    "yp=model.predict(X)"
   ]
  },
  {
   "cell_type": "code",
   "execution_count": 19,
   "metadata": {},
   "outputs": [
    {
     "data": {
      "text/plain": [
       "<matplotlib.collections.PathCollection at 0x24a59ea8208>"
      ]
     },
     "execution_count": 19,
     "metadata": {},
     "output_type": "execute_result"
    },
    {
     "data": {
      "image/png": "[encoded data removed]",
      "text/plain": [
       "<Figure size 432x288 with 1 Axes>"
      ]
     },
     "metadata": {
      "needs_background": "light"
     },
     "output_type": "display_data"
    }
   ],
   "source": [
    "plt.scatter(X,y)\n",
    "plt.scatter(X,yp)"
   ]
  },
  {
   "cell_type": "code",
   "execution_count": 20,
   "metadata": {},
   "outputs": [],
   "source": [
    "class CustomLinearReg:    # to make for X**2\n",
    "     \n",
    "    def __init__(self, lr=.1, max_iters=10):\n",
    "        self.lr = lr\n",
    "        self.max_iters = max_iters\n",
    "        \n",
    "    def fit(self, X, y):\n",
    "        \n",
    "        self.coef_ = np.random.random()\n",
    "        \n",
    "        for _ in range(self.max_iters):\n",
    "            self.gradient_decend(X, y)\n",
    "            \n",
    "    def gradient_decend(self, X, y):\n",
    "        \n",
    "        delta_coef = self.gradient(X, y)\n",
    "        print(delta_coef)\n",
    "        \n",
    "        self.coef_ += delta_coef\n",
    "        \n",
    "    def gradient(self, X, y):\n",
    "        \n",
    "        yp = self.coef_ * X**2\n",
    "        diff = (yp - y)\n",
    "        d_err = np.mean(diff * X)\n",
    "\n",
    "        \n",
    "        return - d_err * self.lr\n",
    "    \n",
    "    def predict(self, X):\n",
    "        return X**2 * self.coef_     "
   ]
  },
  {
   "cell_type": "code",
   "execution_count": 21,
   "metadata": {},
   "outputs": [],
   "source": [
    "model=CustomLinearReg(lr=0.002)"
   ]
  },
  {
   "cell_type": "code",
   "execution_count": 22,
   "metadata": {},
   "outputs": [
    {
     "name": "stdout",
     "output_type": "stream",
     "text": [
      "-281516157.4390585\n",
      "8.247245226260976e+16\n",
      "-2.416097691899213e+25\n",
      "7.07815506469091e+33\n",
      "-2.073603202709383e+42\n",
      "6.074789550367639e+50\n",
      "-1.7796590993415747e+59\n",
      "5.2136563474492563e+67\n",
      "-1.5273831105830658e+76\n",
      "4.47459328161465e+84\n"
     ]
    }
   ],
   "source": [
    "model.fit(X**2,y)"
   ]
  },
  {
   "cell_type": "code",
   "execution_count": 23,
   "metadata": {},
   "outputs": [
    {
     "data": {
      "text/plain": [
       "4.474593266340819e+84"
      ]
     },
     "execution_count": 23,
     "metadata": {},
     "output_type": "execute_result"
    }
   ],
   "source": [
    "model.coef_"
   ]
  },
  {
   "cell_type": "code",
   "execution_count": 24,
   "metadata": {},
   "outputs": [],
   "source": [
    "yp=model.predict(X)"
   ]
  },
  {
   "cell_type": "code",
   "execution_count": 25,
   "metadata": {},
   "outputs": [
    {
     "data": {
      "text/plain": [
       "<matplotlib.collections.PathCollection at 0x24a59f0d7b8>"
      ]
     },
     "execution_count": 25,
     "metadata": {},
     "output_type": "execute_result"
    },
    {
     "data": {
      "image/png": "[encoded data removed]",
      "text/plain": [
       "<Figure size 432x288 with 1 Axes>"
      ]
     },
     "metadata": {
      "needs_background": "light"
     },
     "output_type": "display_data"
    }
   ],
   "source": [
    "\n",
    "plt.scatter(X,yp)"
   ]
  },
  {
   "cell_type": "code",
   "execution_count": 26,
   "metadata": {},
   "outputs": [],
   "source": [
    "class CustomLinearReg:\n",
    "    \n",
    "    \n",
    "    def __init__(self, lr=.1, max_iters=10):\n",
    "        self.lr = lr\n",
    "        self.max_iters = max_iters\n",
    "        \n",
    "    def fit(self, X, y):\n",
    "        \n",
    "        self.coef_ = np.random.random()\n",
    "        \n",
    "        for _ in range(self.max_iters):\n",
    "            self.gradient_decend(X, y)\n",
    "            \n",
    "    def gradient_decend(self, X, y):\n",
    "        \n",
    "        delta_coef = self.gradient(X, y)\n",
    "        print(delta_coef)\n",
    "        \n",
    "        self.coef_ += delta_coef\n",
    "        \n",
    "    def gradient(self, X, y):\n",
    "        \n",
    "        yp = self.predict(X)\n",
    "        diff = (yp - y)\n",
    "        d_err = np.mean(diff * (X**2))\n",
    "        \n",
    "        return - d_err * self.lr\n",
    "    \n",
    "    def predict(self, X):\n",
    "        return (X**2) * self.coef_\n",
    "         "
   ]
  },
  {
   "cell_type": "code",
   "execution_count": 27,
   "metadata": {},
   "outputs": [],
   "source": [
    "model = CustomLinearReg(lr = .00000002, max_iters=100)"
   ]
  },
  {
   "cell_type": "code",
   "execution_count": 28,
   "metadata": {},
   "outputs": [
    {
     "name": "stdout",
     "output_type": "stream",
     "text": [
      "-0.028642819886181593\n",
      "-0.01701190622265164\n",
      "-0.010103926725032887\n",
      "-0.006001052082505612\n",
      "-0.003564220829880152\n",
      "-0.0021169071605269905\n",
      "-0.0012573003021367575\n",
      "-0.0007467517136460769\n",
      "-0.00044352023210815955\n",
      "-0.0002634211514946827\n",
      "-0.00015645442537075283\n",
      "-9.292339312618306e-05\n",
      "-5.519023811324849e-05\n",
      "-3.277928496283837e-05\n",
      "-1.9468687931189872e-05\n",
      "-1.1563089621745376e-05\n",
      "-6.867696584027167e-06\n",
      "-4.0789493044833654e-06\n",
      "-2.42262121294355e-06\n",
      "-1.4388738626766952e-06\n",
      "-8.545941815532278e-07\n",
      "-5.075713959978427e-07\n",
      "-3.014632296797819e-07\n",
      "-1.7904885808024556e-07\n",
      "-1.0634296465809458e-07\n",
      "-6.316055993787013e-08\n",
      "-3.7513119411608204e-08\n",
      "-2.2280266818124802e-08\n",
      "-1.3232978153089062e-08\n",
      "-7.859497920796276e-09\n",
      "-4.668012508703396e-09\n",
      "-2.7724850904196503e-09\n",
      "-1.6466694470029326e-09\n",
      "-9.78010763367638e-10\n",
      "-5.808725323993712e-10\n",
      "-3.4499916918575765e-10\n",
      "-2.0490627456456424e-10\n",
      "-1.217005300335586e-10\n",
      "-7.228192146867513e-11\n",
      "-4.293059590272605e-11\n",
      "-2.5497886259108782e-11\n",
      "-1.5144029539078476e-11\n",
      "-8.99453484453261e-12\n",
      "-5.342145310714841e-12\n",
      "-3.1728755682706833e-12\n",
      "-1.8844735343009234e-12\n",
      "-1.1192481499165297e-12\n",
      "-6.64759799838066e-13\n",
      "-3.948228899389506e-13\n",
      "-2.3449757136404515e-13\n",
      "-1.3927859254181384e-13\n",
      "-8.272216655313969e-14\n",
      "-4.912931472063065e-14\n",
      "-2.918057143688202e-14\n",
      "-1.732916571199894e-14\n",
      "-1.0290835052728653e-14\n",
      "-6.109382957220078e-15\n",
      "-3.6300625652074815e-15\n",
      "-2.1535437554121017e-15\n",
      "-1.2804754078388216e-15\n",
      "-7.616821676492691e-16\n",
      "-4.513189196586609e-16\n",
      "-2.6612542569637296e-16\n",
      "-1.5841796994209292e-16\n",
      "-9.671784937381744e-17\n",
      "-5.695037543773651e-17\n",
      "-3.487803041934967e-17\n",
      "-1.746229827404022e-17\n",
      "-1.234002411365509e-17\n",
      "-6.798654794692993e-18\n",
      "-6.798654794692993e-18\n",
      "-6.798654794692993e-18\n",
      "-6.798654794692993e-18\n",
      "-6.798654794692993e-18\n",
      "-6.798654794692993e-18\n",
      "-6.798654794692993e-18\n",
      "-6.798654794692993e-18\n",
      "-6.798654794692993e-18\n",
      "-6.798654794692993e-18\n",
      "-6.798654794692993e-18\n",
      "-6.798654794692993e-18\n",
      "-6.798654794692993e-18\n",
      "-6.798654794692993e-18\n",
      "-6.798654794692993e-18\n",
      "-6.798654794692993e-18\n",
      "-6.798654794692993e-18\n",
      "-6.798654794692993e-18\n",
      "-6.798654794692993e-18\n",
      "-6.798654794692993e-18\n",
      "-6.798654794692993e-18\n",
      "-6.798654794692993e-18\n",
      "-6.798654794692993e-18\n",
      "-6.798654794692993e-18\n",
      "-6.798654794692993e-18\n",
      "-6.798654794692993e-18\n",
      "-6.798654794692993e-18\n",
      "-6.798654794692993e-18\n",
      "-6.798654794692993e-18\n",
      "-6.798654794692993e-18\n",
      "-6.798654794692993e-18\n"
     ]
    }
   ],
   "source": [
    "model.fit(X,y)"
   ]
  },
  {
   "cell_type": "code",
   "execution_count": 29,
   "metadata": {},
   "outputs": [
    {
     "data": {
      "text/plain": [
       "0.06393280689111744"
      ]
     },
     "execution_count": 29,
     "metadata": {},
     "output_type": "execute_result"
    }
   ],
   "source": [
    "model.coef_"
   ]
  },
  {
   "cell_type": "code",
   "execution_count": 30,
   "metadata": {},
   "outputs": [],
   "source": [
    "yp=model.predict(X)"
   ]
  },
  {
   "cell_type": "code",
   "execution_count": 32,
   "metadata": {},
   "outputs": [
    {
     "data": {
      "image/png": "[encoded data removed]",
      "text/plain": [
       "<Figure size 432x288 with 1 Axes>"
      ]
     },
     "metadata": {
      "needs_background": "light"
     },
     "output_type": "display_data"
    }
   ],
   "source": [
    "plt.scatter(X,y)\n",
    "plt.scatter(X,yp)\n",
    "plt.show()"
   ]
  },
  {
   "cell_type": "code",
   "execution_count": 34,
   "metadata": {},
   "outputs": [],
   "source": [
    "from PIL import Image\n",
    "import numpy as np\n",
    "import matplotlib.pyplot as plt"
   ]
  },
  {
   "cell_type": "code",
   "execution_count": null,
   "metadata": {},
   "outputs": [],
   "source": [
    "img="
   ]
  }
 ],
 "metadata": {
  "kernelspec": {
   "display_name": "Python 3",
   "language": "python",
   "name": "python3"
  },
  "language_info": {
   "codemirror_mode": {
    "name": "ipython",
    "version": 3
   },
   "file_extension": ".py",
   "mimetype": "text/x-python",
   "name": "python",
   "nbconvert_exporter": "python",
   "pygments_lexer": "ipython3",
   "version": "3.7.3"
  }
 },
 "nbformat": 4,
 "nbformat_minor": 4
}
