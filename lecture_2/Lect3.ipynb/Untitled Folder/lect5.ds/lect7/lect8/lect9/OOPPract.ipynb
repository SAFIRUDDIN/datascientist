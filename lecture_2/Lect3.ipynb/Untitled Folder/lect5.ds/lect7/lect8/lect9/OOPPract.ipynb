{
 "cells": [
  {
   "cell_type": "code",
   "execution_count": 1,
   "metadata": {},
   "outputs": [
    {
     "name": "stdout",
     "output_type": "stream",
     "text": [
      "<class '__main__.Person'>\n"
     ]
    }
   ],
   "source": [
    "class Person:\n",
    "    pass\n",
    "p=Person()\n",
    "print(type(p))"
   ]
  },
  {
   "cell_type": "code",
   "execution_count": 32,
   "metadata": {},
   "outputs": [
    {
     "name": "stdout",
     "output_type": "stream",
     "text": [
      "My name is Safir\n",
      "I am from Galgotais University\n",
      "My city is Greater Noida\n",
      "my nationality is Indian\n",
      "Hello world!\n",
      "My name is Prateek\n",
      "I am from DTU\n",
      "My city is Delhi\n",
      "my nationality is Indian\n",
      "My name is Ubaid\n",
      "I am from Galgotias college\n",
      "My city is Noida\n",
      "my nationality is Indian\n"
     ]
    }
   ],
   "source": [
    "class Person:\n",
    "    \n",
    "    Nationality=\"Indian\" # class varibale common for all the same class\n",
    "    \n",
    "    def __init__(self,pname,clg,pcity):  #__init__ used to initialize object of a class\n",
    "        # Instance Variable ,these are different every instance of the  class\n",
    "        self.name=pname\n",
    "       # self.age=age\n",
    "        self.college=clg\n",
    "        self.city=pcity\n",
    "       # self.Nationality=Nationality\n",
    "        \n",
    "        \n",
    "    \n",
    "    def sayHi(self,name):# The first parameter of a function inside a class should be an object that object is referred by using the seld keyword\n",
    "        print(\"Hello\",name) # OR print(\"Hello\"+World!)\n",
    "        \n",
    "    def introduce(self): # to access the data memeber of __init__ class \n",
    "        print(\"My name is \"+self.name)\n",
    "       # print(\"My age is \"+self.age)\n",
    "        print(\"I am from \"+self.college)\n",
    "        print(\"My city is \"+self.city)\n",
    "        print(\"my nationality is \"+self.Nationality)\n",
    "        \n",
    "        \n",
    "        \n",
    "p=Person(\"Safir\",\"Galgotais University\",\"Greater Noida\")\n",
    "p.introduce()\n",
    "p.sayHi(\"world!\")\n",
    "\n",
    "p2=Person(\"Prateek\",\"DTU\",\"Delhi\")\n",
    "p2.introduce()\n",
    "\n",
    "p3=Person(\"Ubaid\",\"Galgotias college\",\"Noida\")\n",
    "p3.introduce()\n",
    "\n",
    "        "
   ]
  },
  {
   "cell_type": "markdown",
   "metadata": {},
   "source": [
    "# Instace varibel Vs Class varible"
   ]
  },
  {
   "cell_type": "code",
   "execution_count": 37,
   "metadata": {},
   "outputs": [
    {
     "name": "stdout",
     "output_type": "stream",
     "text": [
      "German Shephard\n",
      "[]\n",
      "Golden Retriever \n",
      "[]\n"
     ]
    }
   ],
   "source": [
    "class Dog():\n",
    "    \n",
    "    color=\"Brown\"\n",
    "   # activities=[]  # this list is common for all the data member of a class,istead of writting there we have write inside the __init__(constractor)\n",
    "    \n",
    "    def __init__(self,breed):\n",
    "        self.breed=breed\n",
    "        self.activities=[]\n",
    "        \n",
    "    def addActivities(self,act):\n",
    "        self.activities.append(act)\n",
    "        \n",
    "    def doActivities(self):\n",
    "        print(self.breed)\n",
    "        print(self.activities)\n",
    "\n",
    "        \n",
    "d1=Dog(\"German Shephard\")\n",
    "d2=Dog(\"Golden Retriever \")\n",
    "\n",
    "\n",
    "d1.doActivities()\n",
    "d2.doActivities()"
   ]
  },
  {
   "cell_type": "code",
   "execution_count": 38,
   "metadata": {},
   "outputs": [],
   "source": [
    "d1.addActivities(\"High jump\")\n",
    "d1.addActivities(\"Roll Over\")\n",
    "\n",
    "d2.addActivities(\"Low Jump\")\n",
    "d2.addActivities(\"Roll Upside Down\")"
   ]
  },
  {
   "cell_type": "code",
   "execution_count": 39,
   "metadata": {},
   "outputs": [
    {
     "name": "stdout",
     "output_type": "stream",
     "text": [
      "German Shephard\n",
      "['High jump', 'Roll Over']\n",
      "Golden Retriever \n",
      "['Low Jump', 'Roll Upside Down']\n"
     ]
    }
   ],
   "source": [
    "d1.doActivities()\n",
    "d2.doActivities()"
   ]
  },
  {
   "cell_type": "markdown",
   "metadata": {},
   "source": [
    "# Public Vs Private\n",
    "- Data Attribute & methods"
   ]
  },
  {
   "cell_type": "code",
   "execution_count": 19,
   "metadata": {},
   "outputs": [
    {
     "name": "stdout",
     "output_type": "stream",
     "text": [
      "German Shephard\n",
      "['High jump', 'Roll Over']\n",
      "Doing secret activities German Shephard\n",
      "Golden Retriever \n",
      "['Low Jump', 'Roll Upside Down']\n",
      "Doing secret activities Golden Retriever \n"
     ]
    },
    {
     "data": {
      "text/plain": [
       "\u001b[1;31mInit signature:\u001b[0m \u001b[0mDog\u001b[0m\u001b[1;33m(\u001b[0m\u001b[0mbreed\u001b[0m\u001b[1;33m)\u001b[0m\u001b[1;33m\u001b[0m\u001b[1;33m\u001b[0m\u001b[0m\n",
       "\u001b[1;31mDocstring:\u001b[0m      <no docstring>\n",
       "\u001b[1;31mInit docstring:\u001b[0m This method accept the breed of the dog and initislize it\n",
       "\u001b[1;31mType:\u001b[0m           type\n",
       "\u001b[1;31mSubclasses:\u001b[0m     \n"
      ]
     },
     "metadata": {},
     "output_type": "display_data"
    }
   ],
   "source": [
    "class Dog():\n",
    "    \n",
    "    color=\"Brown\"\n",
    "    \n",
    "    def __init__(self,breed):\n",
    "        \"This method accept the breed of the dog and initislize it\"\n",
    "        self.breed=breed\n",
    "        self.activities=[]\n",
    "        \n",
    "    def addActivities(self,act):\n",
    "        self.activities.append(act)\n",
    "                                    # secret method can be only call through the class\n",
    "    def __secretActivities(self):  # to make the private use __ayname,that you want give the function name\n",
    "        print(\"Doing secret activities\",self.breed)\n",
    "        \n",
    "    def doActivities(self):\n",
    "        \"\"\"This is regarding dog activities\"\"\"\n",
    "        print(self.breed)\n",
    "        print(self.activities)\n",
    "        self.__secretActivities()\n",
    "\n",
    "        \n",
    "d1=Dog(\"German Shephard\")\n",
    "d2=Dog(\"Golden Retriever \")\n",
    "\n",
    "\n",
    "#d1.__secretActivities()\n",
    "#d2.__secretActivities()\n",
    "\n",
    "d1.addActivities(\"High jump\")\n",
    "d1.addActivities(\"Roll Over\")\n",
    "\n",
    "d2.addActivities(\"Low Jump\")\n",
    "d2.addActivities(\"Roll Upside Down\")\n",
    "\n",
    "d1.doActivities()\n",
    "d2.doActivities()\n",
    "Dog?\n"
   ]
  },
  {
   "cell_type": "code",
   "execution_count": 20,
   "metadata": {},
   "outputs": [
    {
     "data": {
      "text/plain": [
       "\u001b[1;31mType:\u001b[0m           Dog\n",
       "\u001b[1;31mString form:\u001b[0m    <__main__.Dog object at 0x000001FC817A6550>\n",
       "\u001b[1;31mDocstring:\u001b[0m      <no docstring>\n",
       "\u001b[1;31mInit docstring:\u001b[0m This method accept the breed of the dog and initislize it\n"
      ]
     },
     "metadata": {},
     "output_type": "display_data"
    }
   ],
   "source": [
    "d1?"
   ]
  },
  {
   "cell_type": "code",
   "execution_count": 18,
   "metadata": {},
   "outputs": [
    {
     "name": "stdout",
     "output_type": "stream",
     "text": [
      "Dog name is Ramu\n",
      "Dog color is Brown\n",
      "Dog nike name is Shyam\n",
      "Dog eat anything\n",
      "It's avoided some food\n"
     ]
    }
   ],
   "source": [
    "class Dog():\n",
    "    \n",
    "    def __init__(self,dog_name,nick_name,color):\n",
    "        self.Name=dog_name\n",
    "        self.Nick=nick_name\n",
    "        self.Color=color\n",
    "        \n",
    "        \n",
    "    def info(self):\n",
    "        print(\"Dog name is \"+self.Name)\n",
    "        print(\"Dog color is \"+self.Color)\n",
    "        print(\"Dog nike name is \"+self.Nick)\n",
    "        \n",
    "    def eatInfo(self):\n",
    "        print(\"Dog eat anything\")\n",
    "        print(\"It's avoided some food\")\n",
    "        \n",
    "   \n",
    "        \n",
    "    # to make the private method\n",
    "    \n",
    "#     def __secretWork(self):\n",
    "#         print(\"It privides the protection to his master from other dogs\")\n",
    "#         self.__secretWork()\n",
    "        \n",
    "        \n",
    "        \n",
    "        \n",
    "        \n",
    "d=Dog(\"Ramu\",\"Shyam\",\"Brown\")\n",
    "\n",
    "d.info()  \n",
    "d.eatInfo()\n",
    "# d.aboutDog()\n",
    "# d.__secretWork()"
   ]
  },
  {
   "cell_type": "markdown",
   "metadata": {},
   "source": [
    "# Inharitence "
   ]
  },
  {
   "cell_type": "code",
   "execution_count": 32,
   "metadata": {},
   "outputs": [
    {
     "name": "stdout",
     "output_type": "stream",
     "text": [
      "School Member Amit \n",
      "Name is Amit \n",
      "Name of the schoolmember is Amit and age is 30 \n",
      "Salary 45000\n",
      "School Member Safir \n",
      "Student name is Safir \n",
      "Name of the schoolmember is Safir and age is 20 \n",
      "Marks of the student is 90 \n"
     ]
    }
   ],
   "source": [
    "class SchoolMember():\n",
    "    \n",
    "    def __init__(self,name,age):\n",
    "        self.name=name\n",
    "        self.age=age\n",
    "        print(\"School Member %s \"%(self.name))\n",
    "        \n",
    "    def introduce(self):\n",
    "        print(\"Name of the schoolmember is %s and age is %d \"%(self.name,self.age))\n",
    "        \n",
    "        \n",
    "class Teacher(SchoolMember):\n",
    "    \n",
    "    def __init__(self,name,age,salary):\n",
    "        SchoolMember.__init__(self,name,age)\n",
    "        self.salary=salary\n",
    "        print(\"Name is %s \"%(self.name))\n",
    "        \n",
    "    def introduce(self):\n",
    "        \n",
    "        SchoolMember.introduce(self)\n",
    "        print(\"Salary %d\"%(self.salary))\n",
    "        \n",
    "        \n",
    "class Student(SchoolMember):\n",
    "    \n",
    "    def __init__(self,name,age,marks):\n",
    "        SchoolMember.__init__(self,name,age)\n",
    "        self.marks=marks\n",
    "        print(\"Student name is %s \"%(self.name))\n",
    "        \n",
    "    def introduce(self):\n",
    "        SchoolMember.introduce(self)\n",
    "        print(\"Marks of the student is %d \"%(self.marks))\n",
    "        \n",
    "        \n",
    "t=Teacher(\"Amit\",30,45000)\n",
    "t.introduce()\n",
    "\n",
    "s=Student(\"Safir\",20,90)\n",
    "s.introduce()\n",
    "        \n",
    "        "
   ]
  },
  {
   "cell_type": "markdown",
   "metadata": {},
   "source": [
    "# Pyhon classess in depth"
   ]
  },
  {
   "cell_type": "code",
   "execution_count": 24,
   "metadata": {},
   "outputs": [
    {
     "data": {
      "text/plain": [
       "['Amit', 'Aubaid sahab', 'Safiruddin', 'Uttam', 'Vaibahv']"
      ]
     },
     "execution_count": 24,
     "metadata": {},
     "output_type": "execute_result"
    }
   ],
   "source": [
    "a=[\"Safiruddin\",\"Amit\",\"Uttam\",\"Vaibahv\",\"Aubaid sahab\"]\n",
    "a.sort()\n",
    "a"
   ]
  },
  {
   "cell_type": "code",
   "execution_count": 20,
   "metadata": {},
   "outputs": [
    {
     "data": {
      "text/plain": [
       "['Amit', 'Aubaid sahab', 'Safiruddin', 'Uttam', 'Vaibahv']"
      ]
     },
     "execution_count": 20,
     "metadata": {},
     "output_type": "execute_result"
    }
   ],
   "source": [
    "sorted(a)"
   ]
  },
  {
   "cell_type": "code",
   "execution_count": 21,
   "metadata": {},
   "outputs": [
    {
     "data": {
      "text/plain": [
       "[1, 2, 3, 3, 5, 6, 8, 9]"
      ]
     },
     "execution_count": 21,
     "metadata": {},
     "output_type": "execute_result"
    }
   ],
   "source": [
    "x=[3,5,1,8,2,9,3,6]\n",
    "x.sort()\n",
    "x"
   ]
  },
  {
   "cell_type": "code",
   "execution_count": 22,
   "metadata": {},
   "outputs": [
    {
     "data": {
      "text/plain": [
       "[1, 2, 3, 3, 5, 6, 8, 9]"
      ]
     },
     "execution_count": 22,
     "metadata": {},
     "output_type": "execute_result"
    }
   ],
   "source": [
    "sorted(x)"
   ]
  },
  {
   "cell_type": "code",
   "execution_count": 30,
   "metadata": {},
   "outputs": [],
   "source": [
    "class Animal():\n",
    "    X=10\n",
    "    def print_X(self):\n",
    "        print(\"the value of X is {}\".format(self.X))\n",
    "        \n",
    "p=Animal()\n",
    "\n",
    "# print(X)"
   ]
  },
  {
   "cell_type": "code",
   "execution_count": 32,
   "metadata": {},
   "outputs": [
    {
     "name": "stdout",
     "output_type": "stream",
     "text": [
      "the value of X is 10\n"
     ]
    }
   ],
   "source": [
    "\n",
    "p.print_X()"
   ]
  },
  {
   "cell_type": "code",
   "execution_count": 34,
   "metadata": {},
   "outputs": [
    {
     "data": {
      "text/plain": [
       "10"
      ]
     },
     "execution_count": 34,
     "metadata": {},
     "output_type": "execute_result"
    }
   ],
   "source": [
    "p.X"
   ]
  },
  {
   "cell_type": "code",
   "execution_count": 35,
   "metadata": {},
   "outputs": [],
   "source": [
    "class Car():\n",
    "    def __init__(self,model,milage):\n",
    "        self.model=model\n",
    "        self.milage=milage\n"
   ]
  },
  {
   "cell_type": "code",
   "execution_count": 39,
   "metadata": {},
   "outputs": [
    {
     "name": "stdout",
     "output_type": "stream",
     "text": [
      "lamborginni\n",
      "500\n"
     ]
    }
   ],
   "source": [
    "x=Car(\"lamborginni\",500)\n",
    "print(x.model)\n",
    "print(x.milage)"
   ]
  },
  {
   "cell_type": "code",
   "execution_count": 44,
   "metadata": {},
   "outputs": [
    {
     "data": {
      "text/plain": [
       "'MercedizeBenz'"
      ]
     },
     "execution_count": 44,
     "metadata": {},
     "output_type": "execute_result"
    }
   ],
   "source": [
    "x.model=\"MercedizeBenz\"\n",
    "x.model"
   ]
  },
  {
   "cell_type": "code",
   "execution_count": 63,
   "metadata": {},
   "outputs": [
    {
     "name": "stdout",
     "output_type": "stream",
     "text": [
      "Deleted\n",
      "Deleted\n",
      "850.0\n",
      "Deleted\n"
     ]
    }
   ],
   "source": [
    "class Car():\n",
    "    \n",
    "    def __init__(self,model,milage,color):\n",
    "        self.model=model\n",
    "        self.milage=milage\n",
    "        self.color=color\n",
    "    \n",
    "    def __str__(self):\n",
    "        return (\"{} has {} kmpl and it has {} color \".format(self.model,self.milage,self.color))\n",
    "    \n",
    "    def __add__(self,other):\n",
    "        return (self.milage+other.milage)/2\n",
    "    \n",
    "    def __del__(self):\n",
    "        print(\"Deleted\")\n",
    "    \n",
    "# c=Car(\"BMW\",800,\"Blue\")\n",
    "# str(c)\n",
    "\n",
    "c1=Car(\"BMW\",800,\"Blue\")\n",
    "c2=Car(\"Lamborghinni\",900,\"red\")  \n",
    "print(c1+c2)\n",
    "\n",
    "del c1"
   ]
  },
  {
   "cell_type": "code",
   "execution_count": 64,
   "metadata": {},
   "outputs": [
    {
     "name": "stdout",
     "output_type": "stream",
     "text": [
      "init called\n"
     ]
    }
   ],
   "source": [
    "class A():\n",
    "    \n",
    "    def __init__(self):\n",
    "        print(\"init called\")\n",
    "        \n",
    "    def __del__(self):\n",
    "        print(\"Deleted\")\n",
    "        \n",
    "a=A()\n"
   ]
  },
  {
   "cell_type": "code",
   "execution_count": 65,
   "metadata": {},
   "outputs": [
    {
     "name": "stdout",
     "output_type": "stream",
     "text": [
      "Deleted\n"
     ]
    }
   ],
   "source": [
    "del a"
   ]
  },
  {
   "cell_type": "code",
   "execution_count": 66,
   "metadata": {},
   "outputs": [
    {
     "name": "stdout",
     "output_type": "stream",
     "text": [
      "init called\n"
     ]
    }
   ],
   "source": [
    "a=A()"
   ]
  },
  {
   "cell_type": "code",
   "execution_count": 67,
   "metadata": {},
   "outputs": [],
   "source": [
    "b=a"
   ]
  },
  {
   "cell_type": "code",
   "execution_count": 68,
   "metadata": {},
   "outputs": [],
   "source": [
    "del a"
   ]
  },
  {
   "cell_type": "code",
   "execution_count": 70,
   "metadata": {},
   "outputs": [
    {
     "data": {
      "text/plain": [
       "<__main__.A at 0x25a828001d0>"
      ]
     },
     "execution_count": 70,
     "metadata": {},
     "output_type": "execute_result"
    }
   ],
   "source": [
    "b"
   ]
  },
  {
   "cell_type": "code",
   "execution_count": 71,
   "metadata": {},
   "outputs": [
    {
     "name": "stdout",
     "output_type": "stream",
     "text": [
      "init called\n"
     ]
    }
   ],
   "source": [
    "c=A()"
   ]
  },
  {
   "cell_type": "code",
   "execution_count": 72,
   "metadata": {},
   "outputs": [],
   "source": [
    "d=c"
   ]
  },
  {
   "cell_type": "code",
   "execution_count": 73,
   "metadata": {},
   "outputs": [],
   "source": [
    "del d"
   ]
  },
  {
   "cell_type": "code",
   "execution_count": 74,
   "metadata": {},
   "outputs": [
    {
     "name": "stdout",
     "output_type": "stream",
     "text": [
      "Deleted\n"
     ]
    }
   ],
   "source": [
    "del c"
   ]
  },
  {
   "cell_type": "markdown",
   "metadata": {},
   "source": [
    "# Exception Handling"
   ]
  },
  {
   "cell_type": "markdown",
   "metadata": {},
   "source": [
    "# try   ,  except  ,  raise ---->it's using in python\n",
    "# try   ,  catch   ,  thrown----->it's using i other  languages"
   ]
  },
  {
   "cell_type": "code",
   "execution_count": 85,
   "metadata": {},
   "outputs": [],
   "source": [
    "def div(a,b):\n",
    "    try:\n",
    "        return a/b\n",
    "    except ZeroDivisionError:\n",
    "        print(\"Second number must be an integer\")\n",
    "    except TypeError as e:\n",
    "        print(e)\n",
    "        print(\"Unsopported operands\")\n",
    "        \n",
    "        \n",
    "#     raise:\n",
    "#         print(\"Both are dividable\")"
   ]
  },
  {
   "cell_type": "code",
   "execution_count": 87,
   "metadata": {},
   "outputs": [
    {
     "name": "stdout",
     "output_type": "stream",
     "text": [
      "unsupported operand type(s) for /: 'str' and 'int'\n",
      "Unsopported operands\n",
      "None\n"
     ]
    }
   ],
   "source": [
    "print(div(\"safir\",5))"
   ]
  },
  {
   "cell_type": "code",
   "execution_count": 91,
   "metadata": {},
   "outputs": [],
   "source": [
    "def  my_div(a,b):\n",
    "    if b%2==0:\n",
    "        raise Exception(\"Even number division is not supported\")\n",
    "    return a/b\n",
    "\n"
   ]
  },
  {
   "cell_type": "code",
   "execution_count": 95,
   "metadata": {},
   "outputs": [
    {
     "data": {
      "text/plain": [
       "2.0"
      ]
     },
     "execution_count": 95,
     "metadata": {},
     "output_type": "execute_result"
    }
   ],
   "source": [
    "# my_div(10,2)\n",
    "my_div(10,5)"
   ]
  },
  {
   "cell_type": "code",
   "execution_count": 97,
   "metadata": {},
   "outputs": [
    {
     "name": "stdout",
     "output_type": "stream",
     "text": [
      "Number divide by even numbers not supported\n"
     ]
    }
   ],
   "source": [
    "try:\n",
    "    my_div(10,2)\n",
    "except:\n",
    "    print(\"Number divide by even numbers not supported\")"
   ]
  },
  {
   "cell_type": "code",
   "execution_count": 100,
   "metadata": {},
   "outputs": [
    {
     "name": "stdout",
     "output_type": "stream",
     "text": [
      "syed ubaid ul haq\n"
     ]
    }
   ],
   "source": [
    "class e():\n",
    "    pass\n",
    "e1=e()  # instance variable\n",
    "e1.first=\"safir\"\n",
    "e1.second=\"syed ubaid ul haq\"\n",
    "print(e1.second)"
   ]
  },
  {
   "cell_type": "code",
   "execution_count": 101,
   "metadata": {},
   "outputs": [
    {
     "name": "stdout",
     "output_type": "stream",
     "text": [
      "Best\n"
     ]
    }
   ],
   "source": [
    "class Work():\n",
    "    pass\n",
    "\n",
    "coding=Work()  # instance variable\n",
    "python=Work() # instance varible\n",
    "coding.first=\"Love\"\n",
    "python.second=\"Best\"\n",
    "print(python.second)\n"
   ]
  },
  {
   "cell_type": "code",
   "execution_count": 104,
   "metadata": {},
   "outputs": [
    {
     "name": "stdout",
     "output_type": "stream",
     "text": [
      "ubaidul\n"
     ]
    }
   ],
   "source": [
    "class e():\n",
    "    def __init__(self,first,last,salary):\n",
    "        self.first=first\n",
    "        self.last=last\n",
    "        self.salary=salary\n",
    "        \n",
    "e1=e(\"ubaidul\",\"haq\",60000)\n",
    "print(e1.first)"
   ]
  },
  {
   "cell_type": "code",
   "execution_count": 115,
   "metadata": {},
   "outputs": [
    {
     "name": "stdout",
     "output_type": "stream",
     "text": [
      "Pizzas first\n",
      "Derivered by rohan sahu\n",
      "Pizzas first\n",
      "Derivered by rohan sahu\n",
      "Python and coding blocks\n",
      "None\n",
      "Introduce with python by Jatin Bhaiya\n"
     ]
    }
   ],
   "source": [
    "class Food():\n",
    "    \n",
    "    def __init__(self):   # self is referred to object\n",
    "        print(\"Pizzas first\")\n",
    "       # print(\"Derivered by rohan sahu\")\n",
    "        \n",
    "    def work(self):\n",
    "        print(\"Python and coding blocks\")\n",
    "        \n",
    "    def intro(self):\n",
    "        print(\"Introduce with python by Jatin Bhaiya\")\n",
    "        \n",
    "w1=Food() #for w1\n",
    "w2=Food()  #for w2\n",
    "# w3=Food()\n",
    "print(w1.work())  # for calling the work funt\n",
    "w2.intro()    # for calling the intro funct"
   ]
  },
  {
   "cell_type": "markdown",
   "metadata": {},
   "source": [
    "# self refers to object"
   ]
  },
  {
   "cell_type": "code",
   "execution_count": 119,
   "metadata": {},
   "outputs": [
    {
     "name": "stdout",
     "output_type": "stream",
     "text": [
      "ubaidulhaq\n",
      "safir\n",
      "70000\n"
     ]
    }
   ],
   "source": [
    "class e():\n",
    "    \n",
    "    def __init__(self,first,last,pay):\n",
    "        self.frist=first\n",
    "        self.last=last\n",
    "        self.pay=pay\n",
    "        self.name=first+last\n",
    "        \n",
    "e1=e(\"safir\",\"uddin\",70000)\n",
    "e2=e(\"ubaidul\",\"haq\",70000)\n",
    "print(e2.name)\n",
    "print(e1.frist)\n",
    "print(e2.pay)\n"
   ]
  },
  {
   "cell_type": "code",
   "execution_count": 123,
   "metadata": {},
   "outputs": [
    {
     "name": "stdout",
     "output_type": "stream",
     "text": [
      "amir khan\n",
      "70000\n"
     ]
    }
   ],
   "source": [
    "class e():\n",
    "    \n",
    "    def __init__(self,first,last,pay):\n",
    "        self.first=first\n",
    "        self.last=last\n",
    "        self.pay=pay\n",
    "        self.name=first+last\n",
    "        \n",
    "e1=e(\"Inderdeep\",\"Singh\",70000)\n",
    "e2=e(\"amir \",\"khan\",70000)\n",
    "print(e2.name)\n",
    "print(e2.pay)"
   ]
  },
  {
   "cell_type": "code",
   "execution_count": 124,
   "metadata": {},
   "outputs": [
    {
     "name": "stdout",
     "output_type": "stream",
     "text": [
      " my faveroit food is Pizza and Dal \n"
     ]
    }
   ],
   "source": [
    "class Food():\n",
    "    \n",
    "    def __init__(self,italian,punjabi,south):\n",
    "        self.italian=italian\n",
    "        self.punjabi=punjabi\n",
    "        self.south=south\n",
    "    \n",
    "    def myFav(self):\n",
    "        return \" my faveroit food is {} and {} \".format(self.italian,self.punjabi)\n",
    "    \n",
    "f=Food(\"Pizza\",\"Dal\",\"Dosa\")\n",
    "\n",
    "print(f.myFav())"
   ]
  },
  {
   "cell_type": "code",
   "execution_count": 128,
   "metadata": {},
   "outputs": [
    {
     "name": "stdout",
     "output_type": "stream",
     "text": [
      "Pyhton DataScience\n",
      "Scala DataScience\n"
     ]
    }
   ],
   "source": [
    "class Work():\n",
    "    \n",
    "    lang=\"DataScience\"  # class varible\n",
    "    \n",
    "    def __init__(self,assg,others):\n",
    "        self.assg=assg\n",
    "        self.others=others\n",
    "        \n",
    "w1=Work(\"Pyhton\",\"java\") \n",
    "w2=Work(\"Scala\",\"Rubi\")\n",
    "\n",
    "print(w1.assg,w1.lang)  # accessing the class variable\n",
    "print(w2.assg,w2.lang)"
   ]
  },
  {
   "cell_type": "markdown",
   "metadata": {},
   "source": [
    "# Inheritance"
   ]
  },
  {
   "cell_type": "markdown",
   "metadata": {},
   "source": [
    "- This is the example of single level inheritance"
   ]
  },
  {
   "cell_type": "code",
   "execution_count": 142,
   "metadata": {},
   "outputs": [
    {
     "name": "stdout",
     "output_type": "stream",
     "text": [
      "I am student of Galgotias University\n",
      "I am student of Galgotias University\n"
     ]
    }
   ],
   "source": [
    "class College():\n",
    "    \n",
    "    def employee(self):\n",
    "        print(\"I am student of Galgotias University\")\n",
    "        \n",
    "        \n",
    "class Student(College): #child class or base class or subclass---->  inherite super class\n",
    "    \n",
    "    def study(self):\n",
    "        print(\"I am Studying in coding blocks\")\n",
    "        \n",
    "m1=College()\n",
    "m1.employee()\n",
    "\n",
    "m2=Student()  # inherite from other class\n",
    "m2.employee()\n",
    "\n",
    "#print(m1.employee())\n",
    "#print(m2.employee)\n",
    "#print(m2.study)\n",
    "    "
   ]
  },
  {
   "cell_type": "markdown",
   "metadata": {},
   "source": [
    "# Python also shhow the multilevel inheritance"
   ]
  },
  {
   "cell_type": "code",
   "execution_count": 146,
   "metadata": {},
   "outputs": [
    {
     "name": "stdout",
     "output_type": "stream",
     "text": [
      "i am an employee at coding blocks\n",
      "i am an employee at coding blocks\n",
      "i am an employee at coding blocks\n",
      "I am studying in coding blocks\n"
     ]
    }
   ],
   "source": [
    "class Manager():  # super class\n",
    "    \n",
    "    def employee(self):\n",
    "        print(\"i am an employee at coding blocks\")\n",
    "        \n",
    "class Student(Manager): # child class (subclss)\n",
    "    \n",
    "    def study(self):\n",
    "        print(\"I am studying in coding blocks\")\n",
    "        \n",
    "class Employee2(Student):  # child class (subclass)\n",
    "    \n",
    "    def teach(self):\n",
    "        print(\"I am teaching in coding blocks\")\n",
    "        \n",
    "m1=Manager()\n",
    "m1.employee()\n",
    "\n",
    "s1=Student()\n",
    "s1.employee()\n",
    "\n",
    "e1=Employee2()\n",
    "e1.employee()\n",
    "e1.study()"
   ]
  },
  {
   "cell_type": "markdown",
   "metadata": {},
   "source": [
    "# multiple inheritance"
   ]
  },
  {
   "cell_type": "code",
   "execution_count": 153,
   "metadata": {},
   "outputs": [
    {
     "name": "stdout",
     "output_type": "stream",
     "text": [
      "I am employee at coding blocks\n",
      "i am student of coding block\n",
      "I am teaching at coding blocks\n",
      "I am employee at coding blocks\n"
     ]
    }
   ],
   "source": [
    "class Manager():\n",
    "    \n",
    "    def employee(self):\n",
    "        print(\"I am employee at coding blocks\")\n",
    "        \n",
    "class Student(Manager):\n",
    "    def study(self):\n",
    "        print(\"i am student of coding block\")\n",
    "        \n",
    "class Employee2(Student):\n",
    "    \n",
    "    def teach(self):\n",
    "        print(\"I am teaching at coding blocks\")\n",
    "\n",
    "m1=Manager()\n",
    "m1.employee()\n",
    "\n",
    "s1=Student()\n",
    "s1.study()\n",
    "\n",
    "e1=Employee2()\n",
    "e1.teach()\n",
    "e1.employee()\n",
    "#e1.study"
   ]
  },
  {
   "cell_type": "markdown",
   "metadata": {},
   "source": [
    "# modules"
   ]
  },
  {
   "cell_type": "code",
   "execution_count": 155,
   "metadata": {},
   "outputs": [
    {
     "ename": "AttributeError",
     "evalue": "'function' object has no attribute 'x'",
     "output_type": "error",
     "traceback": [
      "\u001b[1;31m---------------------------------------------------------------------------\u001b[0m",
      "\u001b[1;31mAttributeError\u001b[0m                            Traceback (most recent call last)",
      "\u001b[1;32m<ipython-input-155-9875b290e7f4>\u001b[0m in \u001b[0;36m<module>\u001b[1;34m\u001b[0m\n\u001b[0;32m      3\u001b[0m \u001b[1;31m#from calc import add\u001b[0m\u001b[1;33m\u001b[0m\u001b[1;33m\u001b[0m\u001b[1;33m\u001b[0m\u001b[0m\n\u001b[0;32m      4\u001b[0m \u001b[0mx\u001b[0m\u001b[1;33m=\u001b[0m\u001b[0madd\u001b[0m\u001b[1;33m(\u001b[0m\u001b[1;36m5\u001b[0m\u001b[1;33m,\u001b[0m\u001b[1;36m6\u001b[0m\u001b[1;33m)\u001b[0m\u001b[1;33m\u001b[0m\u001b[1;33m\u001b[0m\u001b[0m\n\u001b[1;32m----> 5\u001b[1;33m \u001b[0mprint\u001b[0m\u001b[1;33m(\u001b[0m\u001b[0madd\u001b[0m\u001b[1;33m.\u001b[0m\u001b[0mx\u001b[0m\u001b[1;33m)\u001b[0m\u001b[1;33m\u001b[0m\u001b[1;33m\u001b[0m\u001b[0m\n\u001b[0m",
      "\u001b[1;31mAttributeError\u001b[0m: 'function' object has no attribute 'x'"
     ]
    }
   ],
   "source": [
    "def add(a,b):\n",
    "    return a+b\n",
    "from calc import add\n",
    "x=add(5,6)\n",
    "print(add.x)"
   ]
  },
  {
   "cell_type": "code",
   "execution_count": null,
   "metadata": {},
   "outputs": [],
   "source": []
  }
 ],
 "metadata": {
  "kernelspec": {
   "display_name": "Python 3",
   "language": "python",
   "name": "python3"
  },
  "language_info": {
   "codemirror_mode": {
    "name": "ipython",
    "version": 3
   },
   "file_extension": ".py",
   "mimetype": "text/x-python",
   "name": "python",
   "nbconvert_exporter": "python",
   "pygments_lexer": "ipython3",
   "version": "3.7.3"
  }
 },
 "nbformat": 4,
 "nbformat_minor": 4
}
