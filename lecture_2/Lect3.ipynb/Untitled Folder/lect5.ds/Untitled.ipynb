{
 "cells": [
  {
   "cell_type": "code",
   "execution_count": 30,
   "metadata": {},
   "outputs": [],
   "source": [
    "class Human:\n",
    "    def __init__(self,name=\"Unnamed\"):\n",
    "        self.name=name\n",
    "        self.balance=1000\n",
    "        \n",
    "        \n",
    "    def party(self):\n",
    "        if self.balance>=100:\n",
    "            self.balance-=100\n",
    "            print(\"Now i have {}\".format(self.balance))\n",
    "        else:\n",
    "            print(\"Not Enough balance\")\n",
    "        \n",
    "    def udhaar(self,person):\n",
    "        if amount <=500 and person.balanve>=amount:\n",
    "            person.balance-=500\n",
    "            self.balance+=500\n",
    "        "
   ]
  },
  {
   "cell_type": "code",
   "execution_count": 11,
   "metadata": {},
   "outputs": [],
   "source": [
    "ravi=Human(\"Ravi\")"
   ]
  },
  {
   "cell_type": "code",
   "execution_count": 12,
   "metadata": {},
   "outputs": [
    {
     "data": {
      "text/plain": [
       "1000"
      ]
     },
     "execution_count": 12,
     "metadata": {},
     "output_type": "execute_result"
    }
   ],
   "source": [
    "ravi.balance"
   ]
  },
  {
   "cell_type": "code",
   "execution_count": 13,
   "metadata": {},
   "outputs": [
    {
     "name": "stdout",
     "output_type": "stream",
     "text": [
      "Now i have 900\n"
     ]
    }
   ],
   "source": [
    "ravi.party()"
   ]
  },
  {
   "cell_type": "code",
   "execution_count": 19,
   "metadata": {},
   "outputs": [
    {
     "name": "stdout",
     "output_type": "stream",
     "text": [
      "Now i have 300\n"
     ]
    }
   ],
   "source": [
    "ravi.party()"
   ]
  },
  {
   "cell_type": "code",
   "execution_count": 22,
   "metadata": {},
   "outputs": [
    {
     "name": "stdout",
     "output_type": "stream",
     "text": [
      "Not Enough balance\n",
      "Not Enough balance\n",
      "Not Enough balance\n"
     ]
    }
   ],
   "source": [
    "ravi.party()\n",
    "ravi.party()\n",
    "ravi.party()\n",
    "ravi.party()"
   ]
  },
  {
   "cell_type": "code",
   "execution_count": 28,
   "metadata": {},
   "outputs": [
    {
     "ename": "AttributeError",
     "evalue": "'str' object has no attribute 'balance'",
     "output_type": "error",
     "traceback": [
      "\u001b[1;31m---------------------------------------------------------------------------\u001b[0m",
      "\u001b[1;31mAttributeError\u001b[0m                            Traceback (most recent call last)",
      "\u001b[1;32m<ipython-input-28-62ec1aa52d79>\u001b[0m in \u001b[0;36m<module>\u001b[1;34m\u001b[0m\n\u001b[1;32m----> 1\u001b[1;33m \u001b[0mravi\u001b[0m\u001b[1;33m.\u001b[0m\u001b[0mudhaar\u001b[0m\u001b[1;33m(\u001b[0m\u001b[1;34m\"Safir\"\u001b[0m\u001b[1;33m)\u001b[0m\u001b[1;33m\u001b[0m\u001b[1;33m\u001b[0m\u001b[0m\n\u001b[0m",
      "\u001b[1;32m<ipython-input-10-b1f7f430c59b>\u001b[0m in \u001b[0;36mudhaar\u001b[1;34m(self, person)\u001b[0m\n\u001b[0;32m     13\u001b[0m \u001b[1;33m\u001b[0m\u001b[0m\n\u001b[0;32m     14\u001b[0m     \u001b[1;32mdef\u001b[0m \u001b[0mudhaar\u001b[0m\u001b[1;33m(\u001b[0m\u001b[0mself\u001b[0m\u001b[1;33m,\u001b[0m\u001b[0mperson\u001b[0m\u001b[1;33m)\u001b[0m\u001b[1;33m:\u001b[0m\u001b[1;33m\u001b[0m\u001b[1;33m\u001b[0m\u001b[0m\n\u001b[1;32m---> 15\u001b[1;33m         \u001b[0mperson\u001b[0m\u001b[1;33m.\u001b[0m\u001b[0mbalance\u001b[0m\u001b[1;33m-=\u001b[0m\u001b[1;36m500\u001b[0m\u001b[1;33m\u001b[0m\u001b[1;33m\u001b[0m\u001b[0m\n\u001b[0m\u001b[0;32m     16\u001b[0m         \u001b[0mself\u001b[0m\u001b[1;33m.\u001b[0m\u001b[0mbalance\u001b[0m\u001b[1;33m+=\u001b[0m\u001b[1;36m500\u001b[0m\u001b[1;33m\u001b[0m\u001b[1;33m\u001b[0m\u001b[0m\n\u001b[0;32m     17\u001b[0m \u001b[1;33m\u001b[0m\u001b[0m\n",
      "\u001b[1;31mAttributeError\u001b[0m: 'str' object has no attribute 'balance'"
     ]
    }
   ],
   "source": [
    "ravi.udhaar()"
   ]
  },
  {
   "cell_type": "code",
   "execution_count": 64,
   "metadata": {},
   "outputs": [],
   "source": [
    "class Human:\n",
    "    population=0\n",
    "    uuid=0\n",
    "    aadhar_index={ }\n",
    "    \n",
    "    def __init__(self,name=\"Unnamed\"):\n",
    "        self.name=name\n",
    "        self.balance=1000\n",
    "        \n",
    "        Human.aadhar_index[Human.uuid]=self\n",
    "        \n",
    "        Human.population+=1\n",
    "        Human.uuid+=1\n",
    "        \n",
    "        \n",
    "        \n",
    "    def __repr__(self):\n",
    "        return \" {} _ {}\".format(self.name,self.balance)\n",
    "    \n",
    "        \n",
    "        \n",
    "    def party(self):\n",
    "        if self.balance>=100:\n",
    "            self.balance-=100\n",
    "            print(\"Now i have {}\".format(self.balance))\n",
    "        else:\n",
    "            print(\"Not Enough balance\")\n",
    "            \n",
    "            \n",
    "        \n",
    "    def udhaar(self,person):\n",
    "        if amount <=500 and person.balanve>=amount:\n",
    "            person.balance-=500\n",
    "            self.balance+=500"
   ]
  },
  {
   "cell_type": "code",
   "execution_count": 66,
   "metadata": {},
   "outputs": [],
   "source": [
    "ravi=Human(\"Ravi\")\n",
    "mohit=Human(\"Safir\")"
   ]
  },
  {
   "cell_type": "code",
   "execution_count": 67,
   "metadata": {},
   "outputs": [
    {
     "data": {
      "text/plain": [
       "4"
      ]
     },
     "execution_count": 67,
     "metadata": {},
     "output_type": "execute_result"
    }
   ],
   "source": [
    "Human.population"
   ]
  },
  {
   "cell_type": "code",
   "execution_count": 68,
   "metadata": {},
   "outputs": [
    {
     "name": "stdout",
     "output_type": "stream",
     "text": [
      " Ravi _ 1000\n"
     ]
    }
   ],
   "source": [
    "print(ravi)"
   ]
  },
  {
   "cell_type": "code",
   "execution_count": 69,
   "metadata": {},
   "outputs": [
    {
     "data": {
      "text/plain": [
       "{0:  Ravi _ 1000,\n",
       " 1:  Safir _ 1000,\n",
       " 2:  Ravi _ 1000,\n",
       " 3:  Safir _ 1000,\n",
       " 4:  Amit sahu _ 1000,\n",
       " 5:  Aman Kumar _ 1000}"
      ]
     },
     "execution_count": 69,
     "metadata": {},
     "output_type": "execute_result"
    }
   ],
   "source": [
    "mohit=Human(\"Amit sahu\")\n",
    "safir=Human(\"Aman Kumar\")\n",
    "mohit.aadhar_index\n",
    "safir.aadhar_index"
   ]
  },
  {
   "cell_type": "code",
   "execution_count": null,
   "metadata": {},
   "outputs": [],
   "source": []
  }
 ],
 "metadata": {
  "kernelspec": {
   "display_name": "Python 3",
   "language": "python",
   "name": "python3"
  },
  "language_info": {
   "codemirror_mode": {
    "name": "ipython",
    "version": 3
   },
   "file_extension": ".py",
   "mimetype": "text/x-python",
   "name": "python",
   "nbconvert_exporter": "python",
   "pygments_lexer": "ipython3",
   "version": "3.7.3"
  }
 },
 "nbformat": 4,
 "nbformat_minor": 4
}
