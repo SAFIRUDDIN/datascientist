{
 "cells": [
  {
   "cell_type": "markdown",
   "metadata": {},
   "source": [
    "# Working wirh NUmpy----->for mathmetical caculation"
   ]
  },
  {
   "cell_type": "code",
   "execution_count": 3,
   "metadata": {},
   "outputs": [],
   "source": [
    "import numpy as np"
   ]
  },
  {
   "cell_type": "code",
   "execution_count": 4,
   "metadata": {},
   "outputs": [
    {
     "name": "stdout",
     "output_type": "stream",
     "text": [
      "[1 2 3 4 5]\n",
      "<class 'numpy.ndarray'>\n",
      "(5,)\n"
     ]
    }
   ],
   "source": [
    "a=np.array([1,2,3,4,5])\n",
    "print(a)\n",
    "print(type(a))\n",
    "print(a.shape)"
   ]
  },
  {
   "cell_type": "code",
   "execution_count": 5,
   "metadata": {},
   "outputs": [
    {
     "name": "stdout",
     "output_type": "stream",
     "text": [
      "[[1]\n",
      " [2]\n",
      " [3]\n",
      " [4]\n",
      " [5]]\n",
      "(5, 1)\n"
     ]
    }
   ],
   "source": [
    "b=np.array([[1],[2],[3],[4],[5]])\n",
    "print(b)\n",
    "print(b.shape)"
   ]
  },
  {
   "cell_type": "code",
   "execution_count": 6,
   "metadata": {},
   "outputs": [
    {
     "name": "stdout",
     "output_type": "stream",
     "text": [
      "1\n",
      "2\n"
     ]
    }
   ],
   "source": [
    "print(b[0][0])\n",
    "print(b[1][0])\n",
    "# print(b[2][0])\n",
    "# print(b[3][0])\n",
    "# print(b[4][0])"
   ]
  },
  {
   "cell_type": "code",
   "execution_count": 7,
   "metadata": {},
   "outputs": [
    {
     "name": "stdout",
     "output_type": "stream",
     "text": [
      "[[1 2 3]\n",
      " [4 5 6]]\n",
      "(2, 3)\n",
      "5\n",
      "6\n"
     ]
    }
   ],
   "source": [
    "c=np.array([[1,2,3],[4,5,6]])\n",
    "print(c)\n",
    "print(c.shape)\n",
    "print(c[1][1])\n",
    "print(c[1][2])"
   ]
  },
  {
   "cell_type": "markdown",
   "metadata": {},
   "source": [
    " ### Create the Zeros,Ones and custom array"
   ]
  },
  {
   "cell_type": "code",
   "execution_count": 8,
   "metadata": {},
   "outputs": [
    {
     "name": "stdout",
     "output_type": "stream",
     "text": [
      "[[0. 0. 0.]\n",
      " [0. 0. 0.]\n",
      " [0. 0. 0.]]\n",
      "[[1. 1. 1.]\n",
      " [1. 1. 1.]]\n",
      "<class 'numpy.ndarray'>\n"
     ]
    }
   ],
   "source": [
    "import numpy\n",
    "a=np.zeros((3,3))\n",
    "print(a)\n",
    "\n",
    "b=np.ones((2,3))\n",
    "print(b)\n",
    "print(type(b))"
   ]
  },
  {
   "cell_type": "code",
   "execution_count": 9,
   "metadata": {},
   "outputs": [
    {
     "name": "stdout",
     "output_type": "stream",
     "text": [
      "[[5 5]\n",
      " [5 5]\n",
      " [5 5]]\n"
     ]
    }
   ],
   "source": [
    "# Array of sum constant\n",
    "c=np.full((3,2),5)\n",
    "print(c)"
   ]
  },
  {
   "cell_type": "code",
   "execution_count": 10,
   "metadata": {},
   "outputs": [
    {
     "name": "stdout",
     "output_type": "stream",
     "text": [
      "[[1. 0. 0. 0.]\n",
      " [0. 1. 0. 0.]\n",
      " [0. 0. 1. 0.]\n",
      " [0. 0. 0. 1.]]\n",
      "[[0.60299721 0.39027692 0.95035966]\n",
      " [0.80725621 0.90724849 0.68727618]]\n"
     ]
    }
   ],
   "source": [
    "# Identity matrix---->Size/Square Matrix\n",
    "d=np.eye(4)\n",
    "print(d)\n",
    "\n",
    "# Random Matrix\n",
    "\n",
    "\n",
    "\n",
    "\n",
    "\n",
    "\n",
    "\n",
    "randommatrix=np.random.random((2,3))\n",
    "print(randommatrix)"
   ]
  },
  {
   "cell_type": "code",
   "execution_count": 11,
   "metadata": {},
   "outputs": [
    {
     "name": "stdout",
     "output_type": "stream",
     "text": [
      "[0.39027692 0.90724849]\n",
      "[[0.80725621 0.90724849 0.68727618]]\n",
      "[0.68727618]\n",
      "[0.90724849]\n",
      "[[0.60299721]\n",
      " [0.80725621]]\n"
     ]
    }
   ],
   "source": [
    "# get the [1][1] value of matrix\n",
    "print(randommatrix[  :, 1])\n",
    "print(randommatrix[1:,:])\n",
    "print(randommatrix[1:,2])\n",
    "print(randommatrix[1:,1])\n",
    "print(randommatrix[:,:1])"
   ]
  },
  {
   "cell_type": "code",
   "execution_count": 12,
   "metadata": {},
   "outputs": [
    {
     "name": "stdout",
     "output_type": "stream",
     "text": [
      "[[0.60299721 0.39027692 0.95035966]\n",
      " [0.80725621 1.         1.        ]]\n"
     ]
    }
   ],
   "source": [
    "# update the .59 and .93 values by 1\n",
    "randommatrix[ 1 ,1:3 ]=1\n",
    "print(randommatrix)"
   ]
  },
  {
   "cell_type": "code",
   "execution_count": 13,
   "metadata": {},
   "outputs": [
    {
     "name": "stdout",
     "output_type": "stream",
     "text": [
      "[[0.60299721 0.39027692 0.95035966]\n",
      " [2.         2.         2.        ]]\n"
     ]
    }
   ],
   "source": [
    "randommatrix[1: ,0:3 ]=2\n",
    "print(randommatrix)"
   ]
  },
  {
   "cell_type": "code",
   "execution_count": 14,
   "metadata": {},
   "outputs": [
    {
     "name": "stdout",
     "output_type": "stream",
     "text": [
      "[[0.60299721 4.         0.95035966]\n",
      " [2.         4.         2.        ]]\n"
     ]
    }
   ],
   "source": [
    "randommatrix[ 0:,1:2 ]=4\n",
    "print(randommatrix)"
   ]
  },
  {
   "cell_type": "code",
   "execution_count": 16,
   "metadata": {},
   "outputs": [
    {
     "name": "stdout",
     "output_type": "stream",
     "text": [
      "[[5.         5.         0.95035966]\n",
      " [5.         5.         2.        ]]\n"
     ]
    }
   ],
   "source": [
    "randommatrix[0:,0:1]=5\n",
    "print(randommatrix)"
   ]
  },
  {
   "cell_type": "code",
   "execution_count": 21,
   "metadata": {},
   "outputs": [
    {
     "name": "stdout",
     "output_type": "stream",
     "text": [
      "[[5. 5. 1.]\n",
      " [5. 5. 1.]]\n"
     ]
    }
   ],
   "source": [
    "randommatrix[0:,2:]=1\n",
    "print(randommatrix)"
   ]
  },
  {
   "cell_type": "code",
   "execution_count": 28,
   "metadata": {},
   "outputs": [
    {
     "name": "stdout",
     "output_type": "stream",
     "text": [
      "[[0. 0. 0.]\n",
      " [0. 0. 0.]\n",
      " [0. 0. 0.]]\n"
     ]
    }
   ],
   "source": [
    "# Set some rows and columns with any values\n",
    "z=np.zeros((3,3))\n",
    "print(z)"
   ]
  },
  {
   "cell_type": "code",
   "execution_count": 30,
   "metadata": {},
   "outputs": [
    {
     "name": "stdout",
     "output_type": "stream",
     "text": [
      "[[0. 0. 0.]\n",
      " [1. 1. 1.]\n",
      " [0. 0. 0.]]\n"
     ]
    }
   ],
   "source": [
    "# set  all row one values by 1\n",
    "z[ 1:2, ]=1\n",
    "print(z)"
   ]
  },
  {
   "cell_type": "code",
   "execution_count": 31,
   "metadata": {},
   "outputs": [
    {
     "name": "stdout",
     "output_type": "stream",
     "text": [
      "[[0. 0. 0.]\n",
      " [1. 1. 1.]\n",
      " [0. 0. 0.]]\n"
     ]
    }
   ],
   "source": [
    "# or \n",
    "z[1,:]=1\n",
    "print(z)"
   ]
  },
  {
   "cell_type": "code",
   "execution_count": 33,
   "metadata": {},
   "outputs": [
    {
     "name": "stdout",
     "output_type": "stream",
     "text": [
      "[[0. 0. 7.]\n",
      " [1. 1. 7.]\n",
      " [0. 0. 7.]]\n"
     ]
    }
   ],
   "source": [
    "# last col by 7\n",
    "z[0:,-1:]=7\n",
    "print(z)"
   ]
  },
  {
   "cell_type": "code",
   "execution_count": 34,
   "metadata": {},
   "outputs": [
    {
     "name": "stdout",
     "output_type": "stream",
     "text": [
      "[[0. 0. 7.]\n",
      " [1. 1. 7.]\n",
      " [0. 2. 7.]]\n"
     ]
    }
   ],
   "source": [
    "z[2, 1:2 ]=2\n",
    "print(z)"
   ]
  },
  {
   "cell_type": "code",
   "execution_count": 38,
   "metadata": {},
   "outputs": [
    {
     "name": "stdout",
     "output_type": "stream",
     "text": [
      "[[0. 0. 7.]\n",
      " [1. 1. 7.]\n",
      " [3. 3. 3.]]\n"
     ]
    }
   ],
   "source": [
    "z[2,0:2]=3\n",
    "print(z)"
   ]
  },
  {
   "cell_type": "code",
   "execution_count": 40,
   "metadata": {},
   "outputs": [
    {
     "name": "stdout",
     "output_type": "stream",
     "text": [
      "[[0. 0. 7.]\n",
      " [1. 1. 7.]\n",
      " [4. 4. 3.]]\n"
     ]
    }
   ],
   "source": [
    "z[2,0:2]=4\n",
    "print(z)"
   ]
  },
  {
   "cell_type": "code",
   "execution_count": 41,
   "metadata": {},
   "outputs": [
    {
     "name": "stdout",
     "output_type": "stream",
     "text": [
      "[[0. 0. 7.]\n",
      " [1. 1. 7.]\n",
      " [5. 4. 3.]]\n"
     ]
    }
   ],
   "source": [
    "z[2,0:1]=5\n",
    "print(z)"
   ]
  },
  {
   "cell_type": "code",
   "execution_count": 43,
   "metadata": {},
   "outputs": [
    {
     "name": "stdout",
     "output_type": "stream",
     "text": [
      "[[0. 0. 7.]\n",
      " [1. 1. 7.]\n",
      " [5. 4. 6.]]\n"
     ]
    }
   ],
   "source": [
    "z[2,2:3]=6\n",
    "print(z)"
   ]
  },
  {
   "cell_type": "code",
   "execution_count": 44,
   "metadata": {},
   "outputs": [
    {
     "name": "stdout",
     "output_type": "stream",
     "text": [
      "[[0. 0. 7.]\n",
      " [1. 2. 7.]\n",
      " [5. 4. 6.]]\n"
     ]
    }
   ],
   "source": [
    "z[1,1:2]=2\n",
    "print(z)"
   ]
  },
  {
   "cell_type": "code",
   "execution_count": 46,
   "metadata": {},
   "outputs": [
    {
     "name": "stdout",
     "output_type": "stream",
     "text": [
      "[[0. 0. 7.]\n",
      " [1. 2. 9.]\n",
      " [5. 4. 6.]]\n"
     ]
    }
   ],
   "source": [
    "z[1,2:3]=9\n",
    "print(z)"
   ]
  },
  {
   "cell_type": "code",
   "execution_count": 47,
   "metadata": {},
   "outputs": [
    {
     "name": "stdout",
     "output_type": "stream",
     "text": [
      "[[0. 8. 7.]\n",
      " [1. 2. 9.]\n",
      " [5. 4. 6.]]\n"
     ]
    }
   ],
   "source": [
    "z[0,1:2]=8\n",
    "print(z)"
   ]
  },
  {
   "cell_type": "code",
   "execution_count": 48,
   "metadata": {},
   "outputs": [
    {
     "name": "stdout",
     "output_type": "stream",
     "text": [
      "[[10.  8.  7.]\n",
      " [ 1.  2.  9.]\n",
      " [ 5.  4.  6.]]\n"
     ]
    }
   ],
   "source": [
    "z[0,0:1]=10\n",
    "print(z)"
   ]
  },
  {
   "cell_type": "code",
   "execution_count": 51,
   "metadata": {},
   "outputs": [
    {
     "name": "stdout",
     "output_type": "stream",
     "text": [
      "[[10.  8. 11.]\n",
      " [ 1.  2.  9.]\n",
      " [ 5.  4.  6.]]\n"
     ]
    }
   ],
   "source": [
    "z[0,2:]=11\n",
    "print(z)"
   ]
  },
  {
   "cell_type": "code",
   "execution_count": 53,
   "metadata": {},
   "outputs": [
    {
     "name": "stdout",
     "output_type": "stream",
     "text": [
      "[[10.  8. 11.]\n",
      " [ 7.  7.  9.]\n",
      " [ 5.  4.  6.]]\n"
     ]
    }
   ],
   "source": [
    "z[1,0:1]=7\n",
    "print(z)"
   ]
  },
  {
   "cell_type": "code",
   "execution_count": 54,
   "metadata": {},
   "outputs": [
    {
     "name": "stdout",
     "output_type": "stream",
     "text": [
      "[[10.  8. 11.]\n",
      " [12.  7.  9.]\n",
      " [ 5.  4.  6.]]\n"
     ]
    }
   ],
   "source": [
    "z[1,0:1]=12\n",
    "print(z)"
   ]
  },
  {
   "cell_type": "code",
   "execution_count": 57,
   "metadata": {},
   "outputs": [
    {
     "name": "stdout",
     "output_type": "stream",
     "text": [
      "float64\n"
     ]
    }
   ],
   "source": [
    "print(z.dtype)"
   ]
  },
  {
   "cell_type": "code",
   "execution_count": 60,
   "metadata": {},
   "outputs": [
    {
     "name": "stdout",
     "output_type": "stream",
     "text": [
      "[[1. 1. 1.]\n",
      " [1. 1. 1.]\n",
      " [1. 1. 1.]]\n"
     ]
    }
   ],
   "source": [
    "z=np.ones((3,3))\n",
    "print(z)  # it is flost64 datatype know covert it into int64 datatype"
   ]
  },
  {
   "cell_type": "code",
   "execution_count": 63,
   "metadata": {},
   "outputs": [
    {
     "name": "stdout",
     "output_type": "stream",
     "text": [
      "[[1 1 1 1]\n",
      " [1 1 1 1]\n",
      " [1 1 1 1]]\n"
     ]
    }
   ],
   "source": [
    "z=np.ones((3,4),dtype=np.int64)\n",
    "print(z)"
   ]
  },
  {
   "cell_type": "markdown",
   "metadata": {},
   "source": [
    "## Mathmetical Operation"
   ]
  },
  {
   "cell_type": "code",
   "execution_count": 69,
   "metadata": {},
   "outputs": [
    {
     "name": "stdout",
     "output_type": "stream",
     "text": [
      "[[ 6  8]\n",
      " [10 12]]\n",
      "[[ 6  8]\n",
      " [10 12]]\n",
      "[[-4 -4]\n",
      " [-4 -4]]\n",
      "[[-4 -4]\n",
      " [-4 -4]]\n"
     ]
    }
   ],
   "source": [
    "# Element wise addition and subtraction\n",
    "x=np.array([[1,2],[3,4]])\n",
    "y=np.array([[5,6],[7,8]])\n",
    "print(x+y)\n",
    "print(np.add(x,y))\n",
    "\n",
    "# subtract\n",
    "print(x-y)\n",
    "print(np.subtract(x,y))"
   ]
  },
  {
   "cell_type": "code",
   "execution_count": 76,
   "metadata": {},
   "outputs": [
    {
     "name": "stdout",
     "output_type": "stream",
     "text": [
      "[[ 5 12]\n",
      " [21 32]]\n",
      "[[ 5 12]\n",
      " [21 32]]\n",
      "[[0.2        0.33333333]\n",
      " [0.42857143 0.5       ]]\n",
      "[[0.2        0.33333333]\n",
      " [0.42857143 0.5       ]]\n"
     ]
    }
   ],
   "source": [
    "# Element wise multiply and division\n",
    "print(x*y)\n",
    "print(np.multiply(x,y))\n",
    "\n",
    "print(x/y)\n",
    "print(np.divide(x,y))"
   ]
  },
  {
   "cell_type": "code",
   "execution_count": 77,
   "metadata": {},
   "outputs": [
    {
     "name": "stdout",
     "output_type": "stream",
     "text": [
      "[[1.         1.41421356]\n",
      " [1.73205081 2.        ]]\n"
     ]
    }
   ],
   "source": [
    "print(np.sqrt(x))"
   ]
  },
  {
   "cell_type": "code",
   "execution_count": 78,
   "metadata": {},
   "outputs": [
    {
     "name": "stdout",
     "output_type": "stream",
     "text": [
      "[[1 2]\n",
      " [3 4]]\n",
      "[[5 6]\n",
      " [7 8]]\n"
     ]
    }
   ],
   "source": [
    "# Multiplication / Dot product\n",
    "print(x)\n",
    "print(y)"
   ]
  },
  {
   "cell_type": "code",
   "execution_count": 80,
   "metadata": {},
   "outputs": [
    {
     "name": "stdout",
     "output_type": "stream",
     "text": [
      "[[19 22]\n",
      " [43 50]]\n",
      "[[19 22]\n",
      " [43 50]]\n"
     ]
    }
   ],
   "source": [
    "print(x.dot(y))\n",
    "print(np.dot(x,y))"
   ]
  },
  {
   "cell_type": "code",
   "execution_count": 81,
   "metadata": {},
   "outputs": [
    {
     "name": "stdout",
     "output_type": "stream",
     "text": [
      "30\n"
     ]
    }
   ],
   "source": [
    "# MUltification (Dot product) of vectors----->gives Scalar value\n",
    "a=np.array([1,2,3,4])\n",
    "b=np.array([1,2,3,4])\n",
    "print(a.dot(b))"
   ]
  },
  {
   "cell_type": "code",
   "execution_count": 82,
   "metadata": {},
   "outputs": [
    {
     "name": "stdout",
     "output_type": "stream",
     "text": [
      "10\n"
     ]
    }
   ],
   "source": [
    "print(sum(a))"
   ]
  },
  {
   "cell_type": "code",
   "execution_count": 140,
   "metadata": {},
   "outputs": [],
   "source": [
    "x=np.array([[1,2],[3,4]])"
   ]
  },
  {
   "cell_type": "code",
   "execution_count": 141,
   "metadata": {},
   "outputs": [
    {
     "name": "stdout",
     "output_type": "stream",
     "text": [
      "[[1 2]\n",
      " [3 4]]\n"
     ]
    }
   ],
   "source": [
    "print(x)"
   ]
  },
  {
   "cell_type": "code",
   "execution_count": 142,
   "metadata": {},
   "outputs": [
    {
     "name": "stdout",
     "output_type": "stream",
     "text": [
      "10\n"
     ]
    }
   ],
   "source": [
    "print(np.sum(x))"
   ]
  },
  {
   "cell_type": "code",
   "execution_count": 143,
   "metadata": {},
   "outputs": [
    {
     "name": "stdout",
     "output_type": "stream",
     "text": [
      "[4 6]\n"
     ]
    }
   ],
   "source": [
    "print(np.sum(x,axis=0))  # it will basically sum along the columns"
   ]
  },
  {
   "cell_type": "code",
   "execution_count": 144,
   "metadata": {},
   "outputs": [
    {
     "name": "stdout",
     "output_type": "stream",
     "text": [
      "[3 7]\n"
     ]
    }
   ],
   "source": [
    "print(np.sum(x,axis=1))  # it will add basically along the rows wise"
   ]
  },
  {
   "cell_type": "code",
   "execution_count": 171,
   "metadata": {},
   "outputs": [
    {
     "name": "stdout",
     "output_type": "stream",
     "text": [
      "[1 2 3 4]\n",
      "[1 2 3 4]\n",
      "[ 1  4  9 16]\n"
     ]
    }
   ],
   "source": [
    "a=np.array([1,2,3,4])\n",
    "b=np.array([1,2,3,4])\n",
    "print(a)\n",
    "print(b)\n",
    "b=b**2\n",
    "print(b)"
   ]
  },
  {
   "cell_type": "code",
   "execution_count": 172,
   "metadata": {},
   "outputs": [
    {
     "data": {
      "text/plain": [
       "array([[ 1,  1],\n",
       "       [ 2,  4],\n",
       "       [ 3,  9],\n",
       "       [ 4, 16]])"
      ]
     },
     "execution_count": 172,
     "metadata": {},
     "output_type": "execute_result"
    }
   ],
   "source": [
    "np.stack((a,b),axis=1)"
   ]
  },
  {
   "cell_type": "code",
   "execution_count": 173,
   "metadata": {},
   "outputs": [
    {
     "name": "stdout",
     "output_type": "stream",
     "text": [
      "[[ 1  2  3  4]\n",
      " [ 1  4  9 16]]\n"
     ]
    }
   ],
   "source": [
    "a=np.stack((a,b),axis=0)\n",
    "print(a)\n"
   ]
  },
  {
   "cell_type": "code",
   "execution_count": 174,
   "metadata": {},
   "outputs": [
    {
     "name": "stdout",
     "output_type": "stream",
     "text": [
      "[[ 1  2]\n",
      " [ 3  4]\n",
      " [ 1  4]\n",
      " [ 9 16]]\n"
     ]
    }
   ],
   "source": [
    "# Reshape a into(4,2)\n",
    "a=a.reshape((4,2))\n",
    "print(a)"
   ]
  },
  {
   "cell_type": "code",
   "execution_count": 175,
   "metadata": {},
   "outputs": [
    {
     "name": "stdout",
     "output_type": "stream",
     "text": [
      "[[ 1]\n",
      " [ 2]\n",
      " [ 3]\n",
      " [ 4]\n",
      " [ 1]\n",
      " [ 4]\n",
      " [ 9]\n",
      " [16]]\n"
     ]
    }
   ],
   "source": [
    "a=a.reshape((8,1))\n",
    "print(a)"
   ]
  },
  {
   "cell_type": "code",
   "execution_count": 177,
   "metadata": {},
   "outputs": [
    {
     "name": "stdout",
     "output_type": "stream",
     "text": [
      "[ 1  2  3  4  1  4  9 16]\n"
     ]
    }
   ],
   "source": [
    "a=a.reshape((8,))\n",
    "print(a)"
   ]
  },
  {
   "cell_type": "code",
   "execution_count": 179,
   "metadata": {},
   "outputs": [
    {
     "name": "stdout",
     "output_type": "stream",
     "text": [
      "[[ 1  2]\n",
      " [ 3  4]\n",
      " [ 1  4]\n",
      " [ 9 16]]\n"
     ]
    }
   ],
   "source": [
    "# if you want to give the number of row the give it and columns it will figure out of itself\n",
    "a=a.reshape((4,-1))\n",
    "print(a)"
   ]
  },
  {
   "cell_type": "code",
   "execution_count": 182,
   "metadata": {},
   "outputs": [
    {
     "name": "stdout",
     "output_type": "stream",
     "text": [
      "[[ 1  2  3  4]\n",
      " [ 1  4  9 16]]\n"
     ]
    }
   ],
   "source": [
    "a=a.reshape((-1,4))\n",
    "print(a)"
   ]
  },
  {
   "cell_type": "markdown",
   "metadata": {},
   "source": [
    "# Numpy Random Module\n",
    "- rand-->random values in a given shape\n",
    "- randn-->Return a sample(or samples) from from the  \"standard normal\" distribution\n",
    "- randint-->Return random integers from low (inclusive) to high (exclusive)\n",
    "- random-->Return random floats in the half interval [0.0,1)]\n",
    "- choice-->Generates arandom simple form a given 1-D array\n",
    "- Shuffle--->Suffle the content of sequence\n",
    "                                                      - "
   ]
  },
  {
   "cell_type": "code",
   "execution_count": 183,
   "metadata": {},
   "outputs": [
    {
     "name": "stdout",
     "output_type": "stream",
     "text": [
      "[0 1 2 3 4 5 6 7 8 9]\n"
     ]
    }
   ],
   "source": [
    "a=np.arange(10)\n",
    "print(a)"
   ]
  },
  {
   "cell_type": "code",
   "execution_count": 185,
   "metadata": {},
   "outputs": [
    {
     "name": "stdout",
     "output_type": "stream",
     "text": [
      "[ 5  6  7  8  9 10 11 12 13 14]\n"
     ]
    }
   ],
   "source": [
    "a=np.arange(10)+5\n",
    "print(a)"
   ]
  },
  {
   "cell_type": "code",
   "execution_count": 186,
   "metadata": {},
   "outputs": [
    {
     "data": {
      "text/plain": [
       "<module 'numpy.random' from 'C:\\\\Users\\\\user\\\\Anaconda3\\\\lib\\\\site-packages\\\\numpy\\\\random\\\\__init__.py'>"
      ]
     },
     "execution_count": 186,
     "metadata": {},
     "output_type": "execute_result"
    }
   ],
   "source": [
    "np.random"
   ]
  },
  {
   "cell_type": "code",
   "execution_count": 190,
   "metadata": {},
   "outputs": [
    {
     "name": "stdout",
     "output_type": "stream",
     "text": [
      "[ 8  6  7 13  9 10 14 11  5 12]\n"
     ]
    }
   ],
   "source": [
    "np.random.shuffle(a)  # random shuffle of values\n",
    "print(a)"
   ]
  },
  {
   "cell_type": "code",
   "execution_count": 195,
   "metadata": {},
   "outputs": [
    {
     "name": "stdout",
     "output_type": "stream",
     "text": [
      "[[0.03526765 0.20085433 0.02813248]\n",
      " [0.37529566 0.2844136  0.71079153]]\n",
      "[7 9 7]\n",
      "7\n"
     ]
    }
   ],
   "source": [
    "# Return a value from Standard Normal distribution\n",
    "a=np.random.rand(2,3)\n",
    "print(a)\n",
    "\n",
    "a=np.random.randint(5,10,3)\n",
    "print(a)\n",
    "\n",
    "# Randomly pick one element form array\n",
    "a=np.random.choice([1,4,3,5,7,3,9,5,])\n",
    "print(a)"
   ]
  },
  {
   "cell_type": "code",
   "execution_count": 196,
   "metadata": {},
   "outputs": [
    {
     "name": "stdout",
     "output_type": "stream",
     "text": [
      "[[0.4359949  0.02592623 0.54966248]\n",
      " [0.43532239 0.4203678  0.33033482]]\n"
     ]
    }
   ],
   "source": [
    "a=np.random.seed(2)\n",
    "a=np.random.rand(2,3)\n",
    "print(a)"
   ]
  },
  {
   "cell_type": "markdown",
   "metadata": {},
   "source": [
    "# some More Numpy Function- Statistics\n",
    "- min,max\n",
    "- mean\n",
    "- median\n",
    "- average\n",
    "- variance\n",
    "- standard deviation"
   ]
  },
  {
   "cell_type": "code",
   "execution_count": 7,
   "metadata": {},
   "outputs": [
    {
     "name": "stdout",
     "output_type": "stream",
     "text": [
      "[[1 2 3 4]\n",
      " [7 6 2 0]]\n",
      "0\n"
     ]
    }
   ],
   "source": [
    "import numpy as np\n",
    "a=np.array([[1,2,3,4],[7,6,2,0]])\n",
    "print(a)\n",
    "print(np.min(a))"
   ]
  },
  {
   "cell_type": "code",
   "execution_count": 10,
   "metadata": {},
   "outputs": [
    {
     "name": "stdout",
     "output_type": "stream",
     "text": [
      "[1 2 2 0]\n",
      "[4 7]\n",
      "[1 0]\n",
      "[7 6 3 4]\n"
     ]
    }
   ],
   "source": [
    "# specify the  axis for the direction in case  multy dimenson array\n",
    "print(np.min(a,axis=0))\n",
    "print(np.max(a,axis=1))\n",
    "print(np.min(a,axis=1))\n",
    "print(np.max(a,axis=0))"
   ]
  },
  {
   "cell_type": "code",
   "execution_count": 16,
   "metadata": {},
   "outputs": [
    {
     "name": "stdout",
     "output_type": "stream",
     "text": [
      "3.0\n",
      "3.0\n",
      "[4.  4.  2.5 2. ]\n",
      "[2.5  3.75]\n"
     ]
    }
   ],
   "source": [
    "# find the mean, averge all the element\n",
    "b=np.array([1,2,3,4,5])\n",
    "print(np.sum(b)/5)\n",
    "print(np.mean(b))\n",
    "\n",
    "print(np.mean(a,axis=0))\n",
    "print(np.mean(a,axis=1))\n",
    "\n",
    "# Median-----> middle most vallue"
   ]
  },
  {
   "cell_type": "code",
   "execution_count": 20,
   "metadata": {},
   "outputs": [
    {
     "name": "stdout",
     "output_type": "stream",
     "text": [
      "2.0\n"
     ]
    }
   ],
   "source": [
    "# median\n",
    "c=np.array([1,5,4,2,0])\n",
    "print(np.median(c))"
   ]
  },
  {
   "cell_type": "code",
   "execution_count": 23,
   "metadata": {},
   "outputs": [
    {
     "name": "stdout",
     "output_type": "stream",
     "text": [
      "2.4\n",
      "2.066666666666667\n"
     ]
    }
   ],
   "source": [
    "# Difference bet mean and average\n",
    "# average is weighted,i=[1,2,3,4] , w=[1,2,3,4]--->avg=[1*1+2*2+3*3+4*4],(w[i])\n",
    "print(np.mean(c))\n",
    "w=np.array([1,2,3,4,5])\n",
    "print(np.average(c,weights=w))"
   ]
  },
  {
   "cell_type": "code",
   "execution_count": 27,
   "metadata": {},
   "outputs": [
    {
     "name": "stdout",
     "output_type": "stream",
     "text": [
      "1.854723699099141\n",
      "1.854723699099141\n"
     ]
    }
   ],
   "source": [
    "# Standard Deviation \n",
    "u=np.mean(c)\n",
    "mystd=np.sqrt(np.mean(abs(c-u)**2))\n",
    "print(mystd)\n",
    "\n",
    "# inbuit function\n",
    "\n",
    "dev=np.std(c)\n",
    "print(dev)"
   ]
  },
  {
   "cell_type": "code",
   "execution_count": 31,
   "metadata": {},
   "outputs": [
    {
     "name": "stdout",
     "output_type": "stream",
     "text": [
      "3.440000000000001\n",
      "3.4400000000000004\n"
     ]
    }
   ],
   "source": [
    "#vraince\n",
    "print(mystd**2)\n",
    "\n",
    "#or Inbuit func\n",
    "print(np.var(c))"
   ]
  },
  {
   "cell_type": "code",
   "execution_count": 34,
   "metadata": {},
   "outputs": [
    {
     "name": "stdout",
     "output_type": "stream",
     "text": [
      "[1 1]\n",
      "[[1 2]\n",
      " [3 4]\n",
      " [5 6]]\n"
     ]
    }
   ],
   "source": [
    "data=np.array([[1,2],[3,4],[5,6]])\n",
    "one_row=np.array([1,1])\n",
    "print(one_row)\n",
    "print(data)"
   ]
  },
  {
   "cell_type": "code",
   "execution_count": 35,
   "metadata": {},
   "outputs": [
    {
     "data": {
      "text/plain": [
       "array([[2, 3],\n",
       "       [4, 5],\n",
       "       [6, 7]])"
      ]
     },
     "execution_count": 35,
     "metadata": {},
     "output_type": "execute_result"
    }
   ],
   "source": [
    "data+one_row"
   ]
  },
  {
   "cell_type": "code",
   "execution_count": 36,
   "metadata": {},
   "outputs": [
    {
     "name": "stdout",
     "output_type": "stream",
     "text": [
      "[[1 2]\n",
      " [3 4]\n",
      " [5 6]]\n"
     ]
    }
   ],
   "source": [
    "print(data)"
   ]
  },
  {
   "cell_type": "code",
   "execution_count": 41,
   "metadata": {},
   "outputs": [
    {
     "name": "stdout",
     "output_type": "stream",
     "text": [
      "[[1 4]\n",
      " [3 4]\n",
      " [5 6]]\n"
     ]
    }
   ],
   "source": [
    "data[0,1]=4\n",
    "print(data)"
   ]
  },
  {
   "cell_type": "code",
   "execution_count": 46,
   "metadata": {},
   "outputs": [
    {
     "name": "stdout",
     "output_type": "stream",
     "text": [
      "[[3 4]\n",
      " [5 6]]\n"
     ]
    }
   ],
   "source": [
    "print(data[1:3])"
   ]
  },
  {
   "cell_type": "code",
   "execution_count": 48,
   "metadata": {},
   "outputs": [
    {
     "name": "stdout",
     "output_type": "stream",
     "text": [
      "[3 5]\n"
     ]
    }
   ],
   "source": [
    "print(data[1:3,0])"
   ]
  },
  {
   "cell_type": "code",
   "execution_count": 49,
   "metadata": {},
   "outputs": [
    {
     "name": "stdout",
     "output_type": "stream",
     "text": [
      "[[1 3 5]\n",
      " [4 4 6]]\n"
     ]
    }
   ],
   "source": [
    "print(data.T)  # Transpose of matric"
   ]
  },
  {
   "cell_type": "code",
   "execution_count": 51,
   "metadata": {},
   "outputs": [
    {
     "name": "stdout",
     "output_type": "stream",
     "text": [
      "[[[1 2]\n",
      "  [3 4]]\n",
      "\n",
      " [[5 6]\n",
      "  [7 8]]]\n"
     ]
    }
   ],
   "source": [
    "data=np.array([[[1,2],[3,4]],\n",
    "             [[5,6],[7,8]]])\n",
    "print(data)"
   ]
  },
  {
   "cell_type": "code",
   "execution_count": 52,
   "metadata": {},
   "outputs": [
    {
     "name": "stdout",
     "output_type": "stream",
     "text": [
      "[[[1. 1.]\n",
      "  [1. 1.]\n",
      "  [1. 1.]]\n",
      "\n",
      " [[1. 1.]\n",
      "  [1. 1.]\n",
      "  [1. 1.]]\n",
      "\n",
      " [[1. 1.]\n",
      "  [1. 1.]\n",
      "  [1. 1.]]\n",
      "\n",
      " [[1. 1.]\n",
      "  [1. 1.]\n",
      "  [1. 1.]]]\n"
     ]
    }
   ],
   "source": [
    "data=np.ones((4,3,2))\n",
    "print(data)"
   ]
  },
  {
   "cell_type": "code",
   "execution_count": 53,
   "metadata": {},
   "outputs": [
    {
     "name": "stdout",
     "output_type": "stream",
     "text": [
      "(4, 3, 2)\n"
     ]
    }
   ],
   "source": [
    "print(data.shape)"
   ]
  },
  {
   "cell_type": "markdown",
   "metadata": {},
   "source": [
    "# Linear Algebra\n",
    "- 1.  Scalar & Vector\n",
    "- Scalar is aa single number denoted as x.\n",
    "- Vector is an array of scalar, denoted as x.\n",
    " - Thus ,a vector has n scalars x1,x2,x3,x4......Xn\n",
    " - Note that indexing here begines with 1. unlike python(begines with 0)"
   ]
  },
  {
   "cell_type": "code",
   "execution_count": 59,
   "metadata": {},
   "outputs": [
    {
     "name": "stdout",
     "output_type": "stream",
     "text": [
      "[4 5 6]\n",
      "(3,)\n",
      "[2]\n"
     ]
    }
   ],
   "source": [
    "import numpy as np\n",
    "x1=np.array([4,5,6])\n",
    "print(x1)\n",
    "print(x1.shape)\n",
    "print(x[0])"
   ]
  },
  {
   "cell_type": "code",
   "execution_count": 64,
   "metadata": {},
   "outputs": [
    {
     "name": "stdout",
     "output_type": "stream",
     "text": [
      "[[2]\n",
      " [3]\n",
      " [5]\n",
      " [6]]\n",
      "(4, 1)\n",
      "2\n",
      "[[2 3]\n",
      " [5 6]]\n"
     ]
    }
   ],
   "source": [
    "# We will represent vector as a column vector that is having multiple rows\n",
    "x=np.array([[2],[3],[5],[6]])\n",
    "print(x)\n",
    "print(x.shape)\n",
    "print(x[0][0])\n",
    "\n",
    "# reshape operation\n",
    "x=x.reshape((-1,2))\n",
    "print(x)"
   ]
  },
  {
   "cell_type": "markdown",
   "metadata": {},
   "source": [
    "# 2.Matrices & Tensors\n",
    "- matrix is 2D array of scalar. denoted by X.\n",
    "                        X=[X1.1  X1.2  X1.3]\n",
    "                          [X2.1  X2.2  X2.3]\n",
    "                          [X3.1  X3.2  X3.3]\n",
    "- this matrix has  m rows and n columns\n",
    "- Each indvidual element such as X1.1 is scalar\n",
    "- if m==n,the matrix is know as the Sqaure Matrix\n",
    "# 2.1 Tensor  is an array with more than 2 axis,denoted as X\n",
    "  - Thick of tensor as a generalization of an array with more 2 axis"
   ]
  },
  {
   "cell_type": "code",
   "execution_count": 69,
   "metadata": {},
   "outputs": [
    {
     "name": "stdout",
     "output_type": "stream",
     "text": [
      "[[ 4  5  7]\n",
      " [10 11 13]\n",
      " [56 80 90]]\n",
      "(3, 3)\n",
      "11\n",
      "13\n",
      "56\n",
      "90\n"
     ]
    }
   ],
   "source": [
    "# Here X is the Matrix\n",
    "x=np.array([[4,5,7],[10,11,13],[56,80,90]])\n",
    "print(x)\n",
    "print(x.shape)\n",
    "# access particular values\n",
    "print(x[1][1])\n",
    "print(x[1][2])\n",
    "print(x[2][0])\n",
    "print(x[2][2])"
   ]
  },
  {
   "cell_type": "code",
   "execution_count": 75,
   "metadata": {},
   "outputs": [
    {
     "name": "stdout",
     "output_type": "stream",
     "text": [
      "[[4 5 7]\n",
      " [2 2 2]\n",
      " [2 2 2]]\n"
     ]
    }
   ],
   "source": [
    "x[1:2,:]=2\n",
    "print(x)"
   ]
  },
  {
   "cell_type": "code",
   "execution_count": 80,
   "metadata": {},
   "outputs": [
    {
     "name": "stdout",
     "output_type": "stream",
     "text": [
      "[[[ 4  5  7]\n",
      "  [10 11 13]]\n",
      "\n",
      " [[56 80 90]\n",
      "  [ 9  8 10]]]\n",
      "(2, 2, 3)\n"
     ]
    }
   ],
   "source": [
    "# Here T is a tensor\n",
    "T=np.array([[[4,5,7],[10,11,13]],[[56,80,90],[9,8,10]]])\n",
    "print(T)\n",
    "print(T.shape)"
   ]
  },
  {
   "cell_type": "markdown",
   "metadata": {},
   "source": [
    "# 3. Transpose\n",
    "- For 2D matix transpose can be obtained as folllows  (A)ij*T=(A)ji\n",
    "- For a vector ,transpose makes the column vector into a row thus a column vector can be also represent as x=[x1,x2,x3]*T"
   ]
  },
  {
   "cell_type": "code",
   "execution_count": 83,
   "metadata": {},
   "outputs": [
    {
     "name": "stdout",
     "output_type": "stream",
     "text": [
      "[[4 5 7]\n",
      " [2 2 2]\n",
      " [2 2 2]]\n",
      "[[4 2 2]\n",
      " [5 2 2]\n",
      " [7 2 2]]\n"
     ]
    }
   ],
   "source": [
    "print(x)\n",
    "xt=np.transpose(x)\n",
    "print(xt)"
   ]
  },
  {
   "cell_type": "code",
   "execution_count": 92,
   "metadata": {},
   "outputs": [
    {
     "name": "stdout",
     "output_type": "stream",
     "text": [
      "[[4]\n",
      " [5]\n",
      " [7]\n",
      " [2]\n",
      " [2]\n",
      " [2]\n",
      " [2]\n",
      " [2]\n",
      " [2]]\n",
      "[[4 5 7 2 2 2 2 2 2]]\n",
      "(1, 9)\n",
      "(9, 1)\n"
     ]
    }
   ],
   "source": [
    "y=x.reshape((-1,1))\n",
    "print(y)\n",
    "print(np.transpose(y))\n",
    "print(np.transpose(y).shape)\n",
    "print(y.shape)"
   ]
  },
  {
   "cell_type": "markdown",
   "metadata": {},
   "source": [
    "# BROADCASTING METHOD"
   ]
  },
  {
   "cell_type": "code",
   "execution_count": 95,
   "metadata": {},
   "outputs": [
    {
     "name": "stdout",
     "output_type": "stream",
     "text": [
      "[[1 2 3]\n",
      " [4 5 6]\n",
      " [7 8 9]]\n",
      "[[ 2  3  4]\n",
      " [ 5  6  7]\n",
      " [ 8  9 10]]\n"
     ]
    }
   ],
   "source": [
    "a=np.array([[1,2,3],[4,5,6],[7,8,9]])\n",
    "print(a)\n",
    "b=np.array([1,1,1])\n",
    "# print(np.broadcast(a,b))\n",
    "print(a+b)"
   ]
  },
  {
   "cell_type": "markdown",
   "metadata": {},
   "source": [
    "# MATRIX MULTIPLICATION"
   ]
  },
  {
   "cell_type": "code",
   "execution_count": 97,
   "metadata": {},
   "outputs": [
    {
     "name": "stdout",
     "output_type": "stream",
     "text": [
      "[[1 2 3]\n",
      " [4 5 6]\n",
      " [7 8 9]]\n",
      "[[9 8 7]\n",
      " [6 5 4]\n",
      " [3 2 1]]\n",
      "(3, 3)\n",
      "(3, 3)\n"
     ]
    }
   ],
   "source": [
    " \n",
    "x=np.array([[1,2,3],[4,5,6],[7,8,9]])\n",
    "y=np.array([[9,8,7],[6,5,4],[3,2,1]])\n",
    "print(x)\n",
    "print(y)\n",
    "print(x.shape)\n",
    "print(y.shape)"
   ]
  },
  {
   "cell_type": "code",
   "execution_count": 98,
   "metadata": {},
   "outputs": [
    {
     "name": "stdout",
     "output_type": "stream",
     "text": [
      "[[ 30  24  18]\n",
      " [ 84  69  54]\n",
      " [138 114  90]]\n"
     ]
    }
   ],
   "source": [
    "print(np.dot(x,y))"
   ]
  },
  {
   "cell_type": "markdown",
   "metadata": {},
   "source": [
    "# Element wise multiflication\n",
    "-A XNOR B--->element wise multiflication"
   ]
  },
  {
   "cell_type": "code",
   "execution_count": 103,
   "metadata": {},
   "outputs": [
    {
     "name": "stdout",
     "output_type": "stream",
     "text": [
      "[[ 4  5  7]\n",
      " [10 11 13]\n",
      " [56 80 90]]\n",
      "[[1. 0. 0.]\n",
      " [0. 1. 0.]\n",
      " [0. 0. 1.]]\n"
     ]
    }
   ],
   "source": [
    "# For elemennt wise multiplication both matrix should have the same size\n",
    "x=np.array([[4,5,7],[10,11,13],[56,80,90]])\n",
    "y=np.eye(3)\n",
    "print(x)\n",
    "print(y)"
   ]
  },
  {
   "cell_type": "code",
   "execution_count": 104,
   "metadata": {},
   "outputs": [
    {
     "name": "stdout",
     "output_type": "stream",
     "text": [
      "[[4. 2. 2.]\n",
      " [2. 4. 2.]\n",
      " [2. 2. 4.]]\n",
      "[[ 16.  10.  14.]\n",
      " [ 20.  44.  26.]\n",
      " [112. 160. 360.]]\n"
     ]
    }
   ],
   "source": [
    "y=y*2  # Element wise multiply\n",
    "y=y+2  # Elemenet wise addition\n",
    "print(y)\n",
    "print(x*y)\n"
   ]
  },
  {
   "cell_type": "markdown",
   "metadata": {},
   "source": [
    "# Norms\n",
    "- it can be thoughts as proxy for size of vectors"
   ]
  },
  {
   "cell_type": "code",
   "execution_count": 110,
   "metadata": {},
   "outputs": [
    {
     "name": "stdout",
     "output_type": "stream",
     "text": [
      "11.575836902790225\n"
     ]
    }
   ],
   "source": [
    "x=np.array([-5,3,10])\n",
    "lp=np.linalg.norm(x)\n",
    "print(lp)"
   ]
  },
  {
   "cell_type": "code",
   "execution_count": 113,
   "metadata": {},
   "outputs": [
    {
     "name": "stdout",
     "output_type": "stream",
     "text": [
      "18.0\n"
     ]
    }
   ],
   "source": [
    "lp1=np.linalg.norm(x,ord=1)\n",
    "print(lp1)"
   ]
  },
  {
   "cell_type": "code",
   "execution_count": 116,
   "metadata": {},
   "outputs": [
    {
     "name": "stdout",
     "output_type": "stream",
     "text": [
      "10.0\n"
     ]
    }
   ],
   "source": [
    "lpinf=np.linalg.norm(x,ord=np.inf)\n",
    "print(lpinf)"
   ]
  },
  {
   "cell_type": "markdown",
   "metadata": {},
   "source": [
    "# BROADCASTING\n",
    "- we can add a scalar to vector ,and numpy will add it to each element in the vector\n",
    "-- x + a = xi + a\n",
    "- similarly you can add a vector to a matrix ,and numpy will add the vector to each column of the matrix"
   ]
  },
  {
   "cell_type": "code",
   "execution_count": 124,
   "metadata": {},
   "outputs": [
    {
     "name": "stdout",
     "output_type": "stream",
     "text": [
      "[2 3 4 5 6]\n"
     ]
    }
   ],
   "source": [
    "l=[1,2,3,4,5]\n",
    "l=np.array(l)\n",
    "l=l+1\n",
    "\n",
    "print(l)"
   ]
  },
  {
   "cell_type": "code",
   "execution_count": 125,
   "metadata": {},
   "outputs": [
    {
     "name": "stdout",
     "output_type": "stream",
     "text": [
      "[ 4  9 16 25 36]\n"
     ]
    }
   ],
   "source": [
    "l=l**2\n",
    "print(l)"
   ]
  },
  {
   "cell_type": "code",
   "execution_count": 126,
   "metadata": {},
   "outputs": [
    {
     "name": "stdout",
     "output_type": "stream",
     "text": [
      "[[ 1  4  9 16]\n",
      " [25 36 49 64]]\n"
     ]
    }
   ],
   "source": [
    "l=[[1,2,3,4],[5,6,7,8]]\n",
    "l=np.array(l)\n",
    "l=l**2\n",
    "print(l)"
   ]
  },
  {
   "cell_type": "code",
   "execution_count": 127,
   "metadata": {},
   "outputs": [
    {
     "name": "stdout",
     "output_type": "stream",
     "text": [
      "[[ 1  4  9 16]\n",
      " [25 36 49 64]]\n"
     ]
    }
   ],
   "source": [
    "print(l)"
   ]
  },
  {
   "cell_type": "code",
   "execution_count": 130,
   "metadata": {},
   "outputs": [
    {
     "name": "stdout",
     "output_type": "stream",
     "text": [
      "[[1.         1.41421356 1.73205081 2.        ]\n",
      " [2.23606798 2.44948974 2.64575131 2.82842712]]\n"
     ]
    }
   ],
   "source": [
    "l=[[1,2,3,4],[5,6,7,8]]\n",
    "l=np.array(l)\n",
    "l=np.sqrt(l,dtype='float64')\n",
    "print(l)"
   ]
  },
  {
   "cell_type": "code",
   "execution_count": 134,
   "metadata": {},
   "outputs": [
    {
     "name": "stdout",
     "output_type": "stream",
     "text": [
      "8.0\n"
     ]
    }
   ],
   "source": [
    "x=np.array([[2,-2,1],[-1,2,-1],[2,-4,1]])\n",
    "# lpinf=np.linalg.norm(x,ord=np.inf)\n",
    "# lp=np.linalg.norm(x)\n",
    "# print(lp)\n",
    "# print(lpinf)\n",
    "lp1=np.linalg.norm(x,ord=1)\n",
    "print(lp1)"
   ]
  },
  {
   "cell_type": "code",
   "execution_count": 131,
   "metadata": {},
   "outputs": [
    {
     "name": "stdout",
     "output_type": "stream",
     "text": [
      "[[ 2 -2  1]\n",
      " [-1  2 -1]\n",
      " [ 2 -4  1]]\n"
     ]
    }
   ],
   "source": [
    "x=np.array([[2,-2,1],[-1,2,-1],[2,-4,1]])\n",
    "print(x)"
   ]
  },
  {
   "cell_type": "code",
   "execution_count": 137,
   "metadata": {},
   "outputs": [
    {
     "name": "stdout",
     "output_type": "stream",
     "text": [
      "[[-1 15]\n",
      " [-9 26]\n",
      " [-2 11]\n",
      " [ 0  0]]\n"
     ]
    }
   ],
   "source": [
    "A=np.array([[1,-3,4],[-2,10,-7],[0,1,0],[0,0,0]])\n",
    "B=np.array([[5,0],[-2,11],[-3,12]])\n",
    "print(np.dot(A,B))"
   ]
  },
  {
   "cell_type": "code",
   "execution_count": 139,
   "metadata": {},
   "outputs": [
    {
     "name": "stdout",
     "output_type": "stream",
     "text": [
      "[[   5    0   48]\n",
      " [  -8 1100   49]\n",
      " [   0   -3    0]]\n",
      "[[  25    0   36]\n",
      " [  -8 1210   -7]\n",
      " [   0    9    0]]\n"
     ]
    }
   ],
   "source": [
    "A=np.array([[1,-3,4],[-2,10,-7],[0,1,0]])\n",
    "B=np.array([[5,0,3],[-2,11,1],[2,-3,12]])\n",
    "print(A*B*A)\n",
    "print(B*A*B)"
   ]
  },
  {
   "cell_type": "code",
   "execution_count": 4,
   "metadata": {},
   "outputs": [
    {
     "data": {
      "text/plain": [
       "<BarContainer object of 4 artists>"
      ]
     },
     "execution_count": 4,
     "metadata": {},
     "output_type": "execute_result"
    },
    {
     "data": {
      "image/png": "[encoded data removed]",
      "text/plain": [
       "<Figure size 432x288 with 1 Axes>"
      ]
     },
     "metadata": {
      "needs_background": "light"
     },
     "output_type": "display_data"
    }
   ],
   "source": [
    "import matplotlib.pyplot as plt\n",
    "import numpy as np\n",
    "\n",
    "plt.bar([0,1,2,3],[5,20,15,10])"
   ]
  },
  {
   "cell_type": "code",
   "execution_count": null,
   "metadata": {},
   "outputs": [],
   "source": []
  }
 ],
 "metadata": {
  "kernelspec": {
   "display_name": "Python 3",
   "language": "python",
   "name": "python3"
  },
  "language_info": {
   "codemirror_mode": {
    "name": "ipython",
    "version": 3
   },
   "file_extension": ".py",
   "mimetype": "text/x-python",
   "name": "python",
   "nbconvert_exporter": "python",
   "pygments_lexer": "ipython3",
   "version": "3.7.3"
  }
 },
 "nbformat": 4,
 "nbformat_minor": 4
}
